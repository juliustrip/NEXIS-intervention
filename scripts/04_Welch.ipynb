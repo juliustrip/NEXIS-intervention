{
 "cells": [
  {
   "cell_type": "code",
   "execution_count": 1,
   "metadata": {},
   "outputs": [],
   "source": [
    "# This code run the Welch ANOVA investigating differences between the 3 groups at baseline\n",
    "# (more specifically the difference between the intervention and active groups, or between the control and active groups),\n",
    "# except for PA parameters (Table 2).\n",
    "# It also tests the distribution of data"
   ]
  },
  {
   "cell_type": "code",
   "execution_count": 2,
   "metadata": {},
   "outputs": [
    {
     "name": "stderr",
     "output_type": "stream",
     "text": [
      "C:\\Users\\BMELAB\\Anaconda3\\lib\\site-packages\\distributed\\utils.py:134: RuntimeWarning: Couldn't detect a suitable IP address for reaching '8.8.8.8', defaulting to '127.0.0.1': [WinError 10051] A socket operation was attempted to an unreachable network\n",
      "  % (host, default, e), RuntimeWarning)\n"
     ]
    },
    {
     "data": {
      "text/html": [
       "<style>#notebook { padding-top:0px !important; } .container { width:90% !important; } .end_space { min-height:0px !important; } </style>"
      ],
      "text/plain": [
       "<IPython.core.display.HTML object>"
      ]
     },
     "metadata": {},
     "output_type": "display_data"
    }
   ],
   "source": [
    "##############################\n",
    "import pandas as pd\n",
    "pd.__version__\n",
    "import os\n",
    "import numpy as np\n",
    "import matplotlib.pyplot as plt\n",
    "import seaborn as sns\n",
    "import matplotlib.ticker as ticker\n",
    "import pingouin as pg\n",
    "from pingouin import pairwise_ttests, read_dataset\n",
    "from pingouin import corr\n",
    "##############################\n",
    "# For diplaying on 90% of your screen widths\n",
    "from IPython.core.display import display, HTML\n",
    "display(HTML(\n",
    "    '<style>'\n",
    "        '#notebook { padding-top:0px !important; } ' \n",
    "        '.container { width:90% !important; } '\n",
    "        '.end_space { min-height:0px !important; } '\n",
    "    '</style>'\n",
    "))"
   ]
  },
  {
   "cell_type": "markdown",
   "metadata": {},
   "source": [
    "## Settings"
   ]
  },
  {
   "cell_type": "code",
   "execution_count": 3,
   "metadata": {},
   "outputs": [],
   "source": [
    "##################################\n",
    "# Period of exploration\n",
    "period = ['0']\n",
    "##################################\n",
    "# Type of analysis\n",
    "# intent-to-treat?\n",
    "ITT = False\n",
    "##################################\n",
    "# all groups or intervention vs. control only?\n",
    "all_groups = True"
   ]
  },
  {
   "cell_type": "code",
   "execution_count": 4,
   "metadata": {},
   "outputs": [],
   "source": [
    "all_param=[ 'energy_intakes','proteins','fat','carb',\n",
    "           'weight', 'BMI','waist_circumference','HR','bMAP', 'baPWV',\n",
    "           'glucose','HbA1c','TG_(neutral fat)','tot_cholesterol',\n",
    "           'trunk_flex','vertical_jump','VO2max_w'  \n",
    "          ]"
   ]
  },
  {
   "cell_type": "markdown",
   "metadata": {},
   "source": [
    "###### Build the path and load data"
   ]
  },
  {
   "cell_type": "code",
   "execution_count": 5,
   "metadata": {},
   "outputs": [
    {
     "name": "stdout",
     "output_type": "stream",
     "text": [
      "C:\\Users\\BMELAB\\Desktop\\JUXIS Code\\\n",
      "number of data in year 0 : 574\n",
      "number of data in year 1 : 512\n",
      "number of data in year 2 : 469\n"
     ]
    }
   ],
   "source": [
    "# path\n",
    "path = 'C:\\\\Users\\\\  \\\\' #Enter your path\n",
    "print(path)\n",
    "data_set = []\n",
    "data_set.append(pd.read_csv(path+'data_year_0S.csv',index_col=0))\n",
    "data_set.append(pd.read_csv(path+'data_year_1S.csv',index_col=0))\n",
    "data_set.append(pd.read_csv(path+'data_year_2S.csv',index_col=0))\n",
    "print('number of data in year 0 :', data_set[0].shape[0])\n",
    "print('number of data in year 1 :', data_set[1].shape[0])\n",
    "print('number of data in year 2 :', data_set[2].shape[0])"
   ]
  },
  {
   "cell_type": "markdown",
   "metadata": {},
   "source": [
    "### Functions for the main ANOVA"
   ]
  },
  {
   "cell_type": "code",
   "execution_count": 6,
   "metadata": {},
   "outputs": [],
   "source": [
    "def GeneralStats():\n",
    "    stats_intervention.append(np.mean(da[da['group'] == 'intervention'][of_int]))\n",
    "    stats_intervention.append(np.std(da[da['group'] == 'intervention'][of_int]))\n",
    "    stats_intervention.append(len(da[da['group'] == 'intervention'][of_int].dropna()))\n",
    "    #\n",
    "    stats_year.append(stats_intervention)\n",
    "    stats_control.append(np.mean(da[da['group'] == 'control'][of_int]))\n",
    "    stats_control.append(np.std(da[da['group'] == 'control'][of_int]))\n",
    "    stats_control.append(len(da[da['group'] == 'control'][of_int].dropna()))    \n",
    "    #\n",
    "    stats_year.append(stats_control)\n",
    "    stats_active.append(np.mean(da[da['group'] == 'active'][of_int]))\n",
    "    stats_active.append(np.std(da[da['group'] == 'active'][of_int]))\n",
    "    stats_active.append(len(da[da['group'] == 'active'][of_int].dropna()))\n",
    "    #\n",
    "    stats_year.append(stats_active)\n",
    "\n",
    "    return(stats_year)"
   ]
  },
  {
   "cell_type": "code",
   "execution_count": 7,
   "metadata": {},
   "outputs": [],
   "source": [
    "def AnovaPlot():    \n",
    "    plt.figure()\n",
    "    \n",
    "    %matplotlib inline\n",
    "    fig = plt.figure()\n",
    "    sns.set(context='notebook', style='whitegrid', palette='deep', font_scale=1, color_codes=True, rc={'figure.figsize':(11.7,8.27)})\n",
    "    ax = sns.boxplot(x = 'period', y=of_int, hue='group', palette=\"Set3\", data=daaa,\n",
    "             linewidth=3, showfliers=False,  hue_order= ['intervention','control','active'])\n",
    "    ax.set_xticklabels(['baseline', '+1-year', '+2-year'], fontsize=12)\n",
    "    ax.set_title(of_int+' (boxplots)', fontsize=12)\n",
    "    \n",
    "    #\n",
    "    plt.show()\n",
    "\n",
    "\n",
    "    "
   ]
  },
  {
   "cell_type": "code",
   "execution_count": 8,
   "metadata": {},
   "outputs": [],
   "source": [
    "def AnovaStats(daaa, group):\n",
    "    if group == True:\n",
    "        daaa=daaa\n",
    "    else:\n",
    "        daaa=daaa[daaa.group != 'active']\n",
    "    aov = pg.welch_anova(dv=of_int, between='group', data=daaa)\n",
    "    # Pretty printing of ANOVA summary\n",
    "    print(of_int,', ANOVA, all_groups =', all_groups, ', ITT =', ITT,  ' :')\n",
    "    display(aov)\n",
    "    if aov['p-unc'].loc[0]<0.05:\n",
    "        print('SIGNIFICANT')\n",
    "        posthoc = pg.pairwise_tukey(data=daaa, dv=of_int, between='group')\n",
    "        #\n",
    "        display(posthoc)\n",
    "    else:\n",
    "        print('no effect')\n",
    "    return(aov)"
   ]
  },
  {
   "cell_type": "markdown",
   "metadata": {},
   "source": [
    "# ANOVA\n",
    "<p> 3 groups at baseline only\n",
    "</p>"
   ]
  },
  {
   "cell_type": "code",
   "execution_count": 9,
   "metadata": {},
   "outputs": [
    {
     "name": "stdout",
     "output_type": "stream",
     "text": [
      "energy_intakes , ANOVA, BL, all_groups = True , ITT = False  :\n"
     ]
    },
    {
     "data": {
      "image/png": "[encoded data removed]",
      "text/plain": [
       "<Figure size 432x288 with 1 Axes>"
      ]
     },
     "metadata": {
      "needs_background": "light"
     },
     "output_type": "display_data"
    },
    {
     "data": {
      "text/html": [
       "<div>\n",
       "<style scoped>\n",
       "    .dataframe tbody tr th:only-of-type {\n",
       "        vertical-align: middle;\n",
       "    }\n",
       "\n",
       "    .dataframe tbody tr th {\n",
       "        vertical-align: top;\n",
       "    }\n",
       "\n",
       "    .dataframe thead th {\n",
       "        text-align: right;\n",
       "    }\n",
       "</style>\n",
       "<table border=\"1\" class=\"dataframe\">\n",
       "  <thead>\n",
       "    <tr style=\"text-align: right;\">\n",
       "      <th></th>\n",
       "      <th>mean</th>\n",
       "      <th>SD</th>\n",
       "      <th>N</th>\n",
       "      <th>year</th>\n",
       "    </tr>\n",
       "  </thead>\n",
       "  <tbody>\n",
       "    <tr>\n",
       "      <td>intervention</td>\n",
       "      <td>1775.373101</td>\n",
       "      <td>448.526543</td>\n",
       "      <td>183</td>\n",
       "      <td>0</td>\n",
       "    </tr>\n",
       "    <tr>\n",
       "      <td>control</td>\n",
       "      <td>1786.721571</td>\n",
       "      <td>488.397843</td>\n",
       "      <td>161</td>\n",
       "      <td>0</td>\n",
       "    </tr>\n",
       "    <tr>\n",
       "      <td>active</td>\n",
       "      <td>1854.493808</td>\n",
       "      <td>510.529875</td>\n",
       "      <td>230</td>\n",
       "      <td>0</td>\n",
       "    </tr>\n",
       "  </tbody>\n",
       "</table>\n",
       "</div>"
      ],
      "text/plain": [
       "                     mean          SD    N  year\n",
       "intervention  1775.373101  448.526543  183     0\n",
       "control       1786.721571  488.397843  161     0\n",
       "active        1854.493808  510.529875  230     0"
      ]
     },
     "metadata": {},
     "output_type": "display_data"
    },
    {
     "name": "stdout",
     "output_type": "stream",
     "text": [
      "general statistics for energy_intakes\n",
      "\n",
      "---------------------------\n",
      "energy_intakes , ANOVA, all_groups = True , ITT = False  :\n"
     ]
    },
    {
     "data": {
      "text/html": [
       "<div>\n",
       "<style scoped>\n",
       "    .dataframe tbody tr th:only-of-type {\n",
       "        vertical-align: middle;\n",
       "    }\n",
       "\n",
       "    .dataframe tbody tr th {\n",
       "        vertical-align: top;\n",
       "    }\n",
       "\n",
       "    .dataframe thead th {\n",
       "        text-align: right;\n",
       "    }\n",
       "</style>\n",
       "<table border=\"1\" class=\"dataframe\">\n",
       "  <thead>\n",
       "    <tr style=\"text-align: right;\">\n",
       "      <th></th>\n",
       "      <th>Source</th>\n",
       "      <th>ddof1</th>\n",
       "      <th>ddof2</th>\n",
       "      <th>F</th>\n",
       "      <th>p-unc</th>\n",
       "      <th>np2</th>\n",
       "    </tr>\n",
       "  </thead>\n",
       "  <tbody>\n",
       "    <tr>\n",
       "      <td>0</td>\n",
       "      <td>group</td>\n",
       "      <td>2</td>\n",
       "      <td>365.789643</td>\n",
       "      <td>1.578365</td>\n",
       "      <td>0.207714</td>\n",
       "      <td>0.005606</td>\n",
       "    </tr>\n",
       "  </tbody>\n",
       "</table>\n",
       "</div>"
      ],
      "text/plain": [
       "  Source  ddof1       ddof2         F     p-unc       np2\n",
       "0  group      2  365.789643  1.578365  0.207714  0.005606"
      ]
     },
     "metadata": {},
     "output_type": "display_data"
    },
    {
     "name": "stdout",
     "output_type": "stream",
     "text": [
      "no effect\n",
      " \n",
      " \n",
      "proteins , ANOVA, BL, all_groups = True , ITT = False  :\n"
     ]
    },
    {
     "data": {
      "image/png": "[encoded data removed]",
      "text/plain": [
       "<Figure size 432x288 with 1 Axes>"
      ]
     },
     "metadata": {
      "needs_background": "light"
     },
     "output_type": "display_data"
    },
    {
     "data": {
      "text/html": [
       "<div>\n",
       "<style scoped>\n",
       "    .dataframe tbody tr th:only-of-type {\n",
       "        vertical-align: middle;\n",
       "    }\n",
       "\n",
       "    .dataframe tbody tr th {\n",
       "        vertical-align: top;\n",
       "    }\n",
       "\n",
       "    .dataframe thead th {\n",
       "        text-align: right;\n",
       "    }\n",
       "</style>\n",
       "<table border=\"1\" class=\"dataframe\">\n",
       "  <thead>\n",
       "    <tr style=\"text-align: right;\">\n",
       "      <th></th>\n",
       "      <th>mean</th>\n",
       "      <th>SD</th>\n",
       "      <th>N</th>\n",
       "      <th>year</th>\n",
       "    </tr>\n",
       "  </thead>\n",
       "  <tbody>\n",
       "    <tr>\n",
       "      <td>intervention</td>\n",
       "      <td>37.351267</td>\n",
       "      <td>6.358850</td>\n",
       "      <td>183</td>\n",
       "      <td>0</td>\n",
       "    </tr>\n",
       "    <tr>\n",
       "      <td>control</td>\n",
       "      <td>37.014297</td>\n",
       "      <td>6.334614</td>\n",
       "      <td>161</td>\n",
       "      <td>0</td>\n",
       "    </tr>\n",
       "    <tr>\n",
       "      <td>active</td>\n",
       "      <td>37.942867</td>\n",
       "      <td>6.563822</td>\n",
       "      <td>230</td>\n",
       "      <td>0</td>\n",
       "    </tr>\n",
       "  </tbody>\n",
       "</table>\n",
       "</div>"
      ],
      "text/plain": [
       "                   mean        SD    N  year\n",
       "intervention  37.351267  6.358850  183     0\n",
       "control       37.014297  6.334614  161     0\n",
       "active        37.942867  6.563822  230     0"
      ]
     },
     "metadata": {},
     "output_type": "display_data"
    },
    {
     "name": "stdout",
     "output_type": "stream",
     "text": [
      "general statistics for proteins\n",
      "\n",
      "---------------------------\n",
      "proteins , ANOVA, all_groups = True , ITT = False  :\n"
     ]
    },
    {
     "data": {
      "text/html": [
       "<div>\n",
       "<style scoped>\n",
       "    .dataframe tbody tr th:only-of-type {\n",
       "        vertical-align: middle;\n",
       "    }\n",
       "\n",
       "    .dataframe tbody tr th {\n",
       "        vertical-align: top;\n",
       "    }\n",
       "\n",
       "    .dataframe thead th {\n",
       "        text-align: right;\n",
       "    }\n",
       "</style>\n",
       "<table border=\"1\" class=\"dataframe\">\n",
       "  <thead>\n",
       "    <tr style=\"text-align: right;\">\n",
       "      <th></th>\n",
       "      <th>Source</th>\n",
       "      <th>ddof1</th>\n",
       "      <th>ddof2</th>\n",
       "      <th>F</th>\n",
       "      <th>p-unc</th>\n",
       "      <th>np2</th>\n",
       "    </tr>\n",
       "  </thead>\n",
       "  <tbody>\n",
       "    <tr>\n",
       "      <td>0</td>\n",
       "      <td>group</td>\n",
       "      <td>2</td>\n",
       "      <td>364.921996</td>\n",
       "      <td>1.037145</td>\n",
       "      <td>0.355508</td>\n",
       "      <td>0.003652</td>\n",
       "    </tr>\n",
       "  </tbody>\n",
       "</table>\n",
       "</div>"
      ],
      "text/plain": [
       "  Source  ddof1       ddof2         F     p-unc       np2\n",
       "0  group      2  364.921996  1.037145  0.355508  0.003652"
      ]
     },
     "metadata": {},
     "output_type": "display_data"
    },
    {
     "name": "stdout",
     "output_type": "stream",
     "text": [
      "no effect\n",
      " \n",
      " \n",
      "fat , ANOVA, BL, all_groups = True , ITT = False  :\n"
     ]
    },
    {
     "data": {
      "image/png": "[encoded data removed]",
      "text/plain": [
       "<Figure size 432x288 with 1 Axes>"
      ]
     },
     "metadata": {
      "needs_background": "light"
     },
     "output_type": "display_data"
    },
    {
     "data": {
      "text/html": [
       "<div>\n",
       "<style scoped>\n",
       "    .dataframe tbody tr th:only-of-type {\n",
       "        vertical-align: middle;\n",
       "    }\n",
       "\n",
       "    .dataframe tbody tr th {\n",
       "        vertical-align: top;\n",
       "    }\n",
       "\n",
       "    .dataframe thead th {\n",
       "        text-align: right;\n",
       "    }\n",
       "</style>\n",
       "<table border=\"1\" class=\"dataframe\">\n",
       "  <thead>\n",
       "    <tr style=\"text-align: right;\">\n",
       "      <th></th>\n",
       "      <th>mean</th>\n",
       "      <th>SD</th>\n",
       "      <th>N</th>\n",
       "      <th>year</th>\n",
       "    </tr>\n",
       "  </thead>\n",
       "  <tbody>\n",
       "    <tr>\n",
       "      <td>intervention</td>\n",
       "      <td>29.071395</td>\n",
       "      <td>5.829985</td>\n",
       "      <td>183</td>\n",
       "      <td>0</td>\n",
       "    </tr>\n",
       "    <tr>\n",
       "      <td>control</td>\n",
       "      <td>28.470731</td>\n",
       "      <td>5.815402</td>\n",
       "      <td>161</td>\n",
       "      <td>0</td>\n",
       "    </tr>\n",
       "    <tr>\n",
       "      <td>active</td>\n",
       "      <td>28.298891</td>\n",
       "      <td>5.362038</td>\n",
       "      <td>230</td>\n",
       "      <td>0</td>\n",
       "    </tr>\n",
       "  </tbody>\n",
       "</table>\n",
       "</div>"
      ],
      "text/plain": [
       "                   mean        SD    N  year\n",
       "intervention  29.071395  5.829985  183     0\n",
       "control       28.470731  5.815402  161     0\n",
       "active        28.298891  5.362038  230     0"
      ]
     },
     "metadata": {},
     "output_type": "display_data"
    },
    {
     "name": "stdout",
     "output_type": "stream",
     "text": [
      "general statistics for fat\n",
      "\n",
      "---------------------------\n",
      "fat , ANOVA, all_groups = True , ITT = False  :\n"
     ]
    },
    {
     "data": {
      "text/html": [
       "<div>\n",
       "<style scoped>\n",
       "    .dataframe tbody tr th:only-of-type {\n",
       "        vertical-align: middle;\n",
       "    }\n",
       "\n",
       "    .dataframe tbody tr th {\n",
       "        vertical-align: top;\n",
       "    }\n",
       "\n",
       "    .dataframe thead th {\n",
       "        text-align: right;\n",
       "    }\n",
       "</style>\n",
       "<table border=\"1\" class=\"dataframe\">\n",
       "  <thead>\n",
       "    <tr style=\"text-align: right;\">\n",
       "      <th></th>\n",
       "      <th>Source</th>\n",
       "      <th>ddof1</th>\n",
       "      <th>ddof2</th>\n",
       "      <th>F</th>\n",
       "      <th>p-unc</th>\n",
       "      <th>np2</th>\n",
       "    </tr>\n",
       "  </thead>\n",
       "  <tbody>\n",
       "    <tr>\n",
       "      <td>0</td>\n",
       "      <td>group</td>\n",
       "      <td>2</td>\n",
       "      <td>356.288912</td>\n",
       "      <td>0.987165</td>\n",
       "      <td>0.373648</td>\n",
       "      <td>0.003499</td>\n",
       "    </tr>\n",
       "  </tbody>\n",
       "</table>\n",
       "</div>"
      ],
      "text/plain": [
       "  Source  ddof1       ddof2         F     p-unc       np2\n",
       "0  group      2  356.288912  0.987165  0.373648  0.003499"
      ]
     },
     "metadata": {},
     "output_type": "display_data"
    },
    {
     "name": "stdout",
     "output_type": "stream",
     "text": [
      "no effect\n",
      " \n",
      " \n",
      "carb , ANOVA, BL, all_groups = True , ITT = False  :\n"
     ]
    },
    {
     "data": {
      "image/png": "[encoded data removed]",
      "text/plain": [
       "<Figure size 432x288 with 1 Axes>"
      ]
     },
     "metadata": {
      "needs_background": "light"
     },
     "output_type": "display_data"
    },
    {
     "data": {
      "text/html": [
       "<div>\n",
       "<style scoped>\n",
       "    .dataframe tbody tr th:only-of-type {\n",
       "        vertical-align: middle;\n",
       "    }\n",
       "\n",
       "    .dataframe tbody tr th {\n",
       "        vertical-align: top;\n",
       "    }\n",
       "\n",
       "    .dataframe thead th {\n",
       "        text-align: right;\n",
       "    }\n",
       "</style>\n",
       "<table border=\"1\" class=\"dataframe\">\n",
       "  <thead>\n",
       "    <tr style=\"text-align: right;\">\n",
       "      <th></th>\n",
       "      <th>mean</th>\n",
       "      <th>SD</th>\n",
       "      <th>N</th>\n",
       "      <th>year</th>\n",
       "    </tr>\n",
       "  </thead>\n",
       "  <tbody>\n",
       "    <tr>\n",
       "      <td>intervention</td>\n",
       "      <td>136.441608</td>\n",
       "      <td>18.742128</td>\n",
       "      <td>183</td>\n",
       "      <td>0</td>\n",
       "    </tr>\n",
       "    <tr>\n",
       "      <td>control</td>\n",
       "      <td>137.695881</td>\n",
       "      <td>17.435269</td>\n",
       "      <td>161</td>\n",
       "      <td>0</td>\n",
       "    </tr>\n",
       "    <tr>\n",
       "      <td>active</td>\n",
       "      <td>133.451455</td>\n",
       "      <td>16.750961</td>\n",
       "      <td>230</td>\n",
       "      <td>0</td>\n",
       "    </tr>\n",
       "  </tbody>\n",
       "</table>\n",
       "</div>"
      ],
      "text/plain": [
       "                    mean         SD    N  year\n",
       "intervention  136.441608  18.742128  183     0\n",
       "control       137.695881  17.435269  161     0\n",
       "active        133.451455  16.750961  230     0"
      ]
     },
     "metadata": {},
     "output_type": "display_data"
    },
    {
     "name": "stdout",
     "output_type": "stream",
     "text": [
      "general statistics for carb\n",
      "\n",
      "---------------------------\n",
      "carb , ANOVA, all_groups = True , ITT = False  :\n"
     ]
    },
    {
     "data": {
      "text/html": [
       "<div>\n",
       "<style scoped>\n",
       "    .dataframe tbody tr th:only-of-type {\n",
       "        vertical-align: middle;\n",
       "    }\n",
       "\n",
       "    .dataframe tbody tr th {\n",
       "        vertical-align: top;\n",
       "    }\n",
       "\n",
       "    .dataframe thead th {\n",
       "        text-align: right;\n",
       "    }\n",
       "</style>\n",
       "<table border=\"1\" class=\"dataframe\">\n",
       "  <thead>\n",
       "    <tr style=\"text-align: right;\">\n",
       "      <th></th>\n",
       "      <th>Source</th>\n",
       "      <th>ddof1</th>\n",
       "      <th>ddof2</th>\n",
       "      <th>F</th>\n",
       "      <th>p-unc</th>\n",
       "      <th>np2</th>\n",
       "    </tr>\n",
       "  </thead>\n",
       "  <tbody>\n",
       "    <tr>\n",
       "      <td>0</td>\n",
       "      <td>group</td>\n",
       "      <td>2</td>\n",
       "      <td>357.912868</td>\n",
       "      <td>3.20492</td>\n",
       "      <td>0.041729</td>\n",
       "      <td>0.010568</td>\n",
       "    </tr>\n",
       "  </tbody>\n",
       "</table>\n",
       "</div>"
      ],
      "text/plain": [
       "  Source  ddof1       ddof2        F     p-unc       np2\n",
       "0  group      2  357.912868  3.20492  0.041729  0.010568"
      ]
     },
     "metadata": {},
     "output_type": "display_data"
    },
    {
     "name": "stdout",
     "output_type": "stream",
     "text": [
      "SIGNIFICANT\n"
     ]
    },
    {
     "data": {
      "text/html": [
       "<div>\n",
       "<style scoped>\n",
       "    .dataframe tbody tr th:only-of-type {\n",
       "        vertical-align: middle;\n",
       "    }\n",
       "\n",
       "    .dataframe tbody tr th {\n",
       "        vertical-align: top;\n",
       "    }\n",
       "\n",
       "    .dataframe thead th {\n",
       "        text-align: right;\n",
       "    }\n",
       "</style>\n",
       "<table border=\"1\" class=\"dataframe\">\n",
       "  <thead>\n",
       "    <tr style=\"text-align: right;\">\n",
       "      <th></th>\n",
       "      <th>A</th>\n",
       "      <th>B</th>\n",
       "      <th>mean(A)</th>\n",
       "      <th>mean(B)</th>\n",
       "      <th>diff</th>\n",
       "      <th>se</th>\n",
       "      <th>T</th>\n",
       "      <th>p-tukey</th>\n",
       "      <th>hedges</th>\n",
       "    </tr>\n",
       "  </thead>\n",
       "  <tbody>\n",
       "    <tr>\n",
       "      <td>0</td>\n",
       "      <td>active</td>\n",
       "      <td>control</td>\n",
       "      <td>133.451455</td>\n",
       "      <td>137.695881</td>\n",
       "      <td>-4.244425</td>\n",
       "      <td>1.813057</td>\n",
       "      <td>-2.341032</td>\n",
       "      <td>0.050498</td>\n",
       "      <td>-0.240093</td>\n",
       "    </tr>\n",
       "    <tr>\n",
       "      <td>1</td>\n",
       "      <td>active</td>\n",
       "      <td>intervention</td>\n",
       "      <td>133.451455</td>\n",
       "      <td>136.441608</td>\n",
       "      <td>-2.990153</td>\n",
       "      <td>1.747775</td>\n",
       "      <td>-1.710834</td>\n",
       "      <td>0.201439</td>\n",
       "      <td>-0.169161</td>\n",
       "    </tr>\n",
       "    <tr>\n",
       "      <td>2</td>\n",
       "      <td>control</td>\n",
       "      <td>intervention</td>\n",
       "      <td>137.695881</td>\n",
       "      <td>136.441608</td>\n",
       "      <td>1.254272</td>\n",
       "      <td>1.906517</td>\n",
       "      <td>0.657887</td>\n",
       "      <td>0.820115</td>\n",
       "      <td>0.070931</td>\n",
       "    </tr>\n",
       "  </tbody>\n",
       "</table>\n",
       "</div>"
      ],
      "text/plain": [
       "         A             B     mean(A)     mean(B)      diff        se  \\\n",
       "0   active       control  133.451455  137.695881 -4.244425  1.813057   \n",
       "1   active  intervention  133.451455  136.441608 -2.990153  1.747775   \n",
       "2  control  intervention  137.695881  136.441608  1.254272  1.906517   \n",
       "\n",
       "          T   p-tukey    hedges  \n",
       "0 -2.341032  0.050498 -0.240093  \n",
       "1 -1.710834  0.201439 -0.169161  \n",
       "2  0.657887  0.820115  0.070931  "
      ]
     },
     "metadata": {},
     "output_type": "display_data"
    },
    {
     "name": "stdout",
     "output_type": "stream",
     "text": [
      " \n",
      " \n",
      "weight , ANOVA, BL, all_groups = True , ITT = False  :\n"
     ]
    },
    {
     "data": {
      "image/png": "[encoded data removed]",
      "text/plain": [
       "<Figure size 432x288 with 1 Axes>"
      ]
     },
     "metadata": {
      "needs_background": "light"
     },
     "output_type": "display_data"
    },
    {
     "data": {
      "text/html": [
       "<div>\n",
       "<style scoped>\n",
       "    .dataframe tbody tr th:only-of-type {\n",
       "        vertical-align: middle;\n",
       "    }\n",
       "\n",
       "    .dataframe tbody tr th {\n",
       "        vertical-align: top;\n",
       "    }\n",
       "\n",
       "    .dataframe thead th {\n",
       "        text-align: right;\n",
       "    }\n",
       "</style>\n",
       "<table border=\"1\" class=\"dataframe\">\n",
       "  <thead>\n",
       "    <tr style=\"text-align: right;\">\n",
       "      <th></th>\n",
       "      <th>mean</th>\n",
       "      <th>SD</th>\n",
       "      <th>N</th>\n",
       "      <th>year</th>\n",
       "    </tr>\n",
       "  </thead>\n",
       "  <tbody>\n",
       "    <tr>\n",
       "      <td>intervention</td>\n",
       "      <td>59.251093</td>\n",
       "      <td>10.394186</td>\n",
       "      <td>183</td>\n",
       "      <td>0</td>\n",
       "    </tr>\n",
       "    <tr>\n",
       "      <td>control</td>\n",
       "      <td>58.348137</td>\n",
       "      <td>9.285385</td>\n",
       "      <td>161</td>\n",
       "      <td>0</td>\n",
       "    </tr>\n",
       "    <tr>\n",
       "      <td>active</td>\n",
       "      <td>58.121348</td>\n",
       "      <td>9.622932</td>\n",
       "      <td>230</td>\n",
       "      <td>0</td>\n",
       "    </tr>\n",
       "  </tbody>\n",
       "</table>\n",
       "</div>"
      ],
      "text/plain": [
       "                   mean         SD    N  year\n",
       "intervention  59.251093  10.394186  183     0\n",
       "control       58.348137   9.285385  161     0\n",
       "active        58.121348   9.622932  230     0"
      ]
     },
     "metadata": {},
     "output_type": "display_data"
    },
    {
     "name": "stdout",
     "output_type": "stream",
     "text": [
      "general statistics for weight\n",
      "\n",
      "---------------------------\n",
      "weight , ANOVA, all_groups = True , ITT = False  :\n"
     ]
    },
    {
     "data": {
      "text/html": [
       "<div>\n",
       "<style scoped>\n",
       "    .dataframe tbody tr th:only-of-type {\n",
       "        vertical-align: middle;\n",
       "    }\n",
       "\n",
       "    .dataframe tbody tr th {\n",
       "        vertical-align: top;\n",
       "    }\n",
       "\n",
       "    .dataframe thead th {\n",
       "        text-align: right;\n",
       "    }\n",
       "</style>\n",
       "<table border=\"1\" class=\"dataframe\">\n",
       "  <thead>\n",
       "    <tr style=\"text-align: right;\">\n",
       "      <th></th>\n",
       "      <th>Source</th>\n",
       "      <th>ddof1</th>\n",
       "      <th>ddof2</th>\n",
       "      <th>F</th>\n",
       "      <th>p-unc</th>\n",
       "      <th>np2</th>\n",
       "    </tr>\n",
       "  </thead>\n",
       "  <tbody>\n",
       "    <tr>\n",
       "      <td>0</td>\n",
       "      <td>group</td>\n",
       "      <td>2</td>\n",
       "      <td>362.884462</td>\n",
       "      <td>0.672433</td>\n",
       "      <td>0.5111</td>\n",
       "      <td>0.002519</td>\n",
       "    </tr>\n",
       "  </tbody>\n",
       "</table>\n",
       "</div>"
      ],
      "text/plain": [
       "  Source  ddof1       ddof2         F   p-unc       np2\n",
       "0  group      2  362.884462  0.672433  0.5111  0.002519"
      ]
     },
     "metadata": {},
     "output_type": "display_data"
    },
    {
     "name": "stdout",
     "output_type": "stream",
     "text": [
      "no effect\n",
      " \n",
      " \n",
      "BMI , ANOVA, BL, all_groups = True , ITT = False  :\n"
     ]
    },
    {
     "data": {
      "image/png": "[encoded data removed]",
      "text/plain": [
       "<Figure size 432x288 with 1 Axes>"
      ]
     },
     "metadata": {
      "needs_background": "light"
     },
     "output_type": "display_data"
    },
    {
     "data": {
      "text/html": [
       "<div>\n",
       "<style scoped>\n",
       "    .dataframe tbody tr th:only-of-type {\n",
       "        vertical-align: middle;\n",
       "    }\n",
       "\n",
       "    .dataframe tbody tr th {\n",
       "        vertical-align: top;\n",
       "    }\n",
       "\n",
       "    .dataframe thead th {\n",
       "        text-align: right;\n",
       "    }\n",
       "</style>\n",
       "<table border=\"1\" class=\"dataframe\">\n",
       "  <thead>\n",
       "    <tr style=\"text-align: right;\">\n",
       "      <th></th>\n",
       "      <th>mean</th>\n",
       "      <th>SD</th>\n",
       "      <th>N</th>\n",
       "      <th>year</th>\n",
       "    </tr>\n",
       "  </thead>\n",
       "  <tbody>\n",
       "    <tr>\n",
       "      <td>intervention</td>\n",
       "      <td>22.645355</td>\n",
       "      <td>3.178250</td>\n",
       "      <td>183</td>\n",
       "      <td>0</td>\n",
       "    </tr>\n",
       "    <tr>\n",
       "      <td>control</td>\n",
       "      <td>22.198137</td>\n",
       "      <td>2.623507</td>\n",
       "      <td>161</td>\n",
       "      <td>0</td>\n",
       "    </tr>\n",
       "    <tr>\n",
       "      <td>active</td>\n",
       "      <td>22.207826</td>\n",
       "      <td>2.593911</td>\n",
       "      <td>230</td>\n",
       "      <td>0</td>\n",
       "    </tr>\n",
       "  </tbody>\n",
       "</table>\n",
       "</div>"
      ],
      "text/plain": [
       "                   mean        SD    N  year\n",
       "intervention  22.645355  3.178250  183     0\n",
       "control       22.198137  2.623507  161     0\n",
       "active        22.207826  2.593911  230     0"
      ]
     },
     "metadata": {},
     "output_type": "display_data"
    },
    {
     "name": "stdout",
     "output_type": "stream",
     "text": [
      "general statistics for BMI\n",
      "\n",
      "---------------------------\n",
      "BMI , ANOVA, all_groups = True , ITT = False  :\n"
     ]
    },
    {
     "data": {
      "text/html": [
       "<div>\n",
       "<style scoped>\n",
       "    .dataframe tbody tr th:only-of-type {\n",
       "        vertical-align: middle;\n",
       "    }\n",
       "\n",
       "    .dataframe tbody tr th {\n",
       "        vertical-align: top;\n",
       "    }\n",
       "\n",
       "    .dataframe thead th {\n",
       "        text-align: right;\n",
       "    }\n",
       "</style>\n",
       "<table border=\"1\" class=\"dataframe\">\n",
       "  <thead>\n",
       "    <tr style=\"text-align: right;\">\n",
       "      <th></th>\n",
       "      <th>Source</th>\n",
       "      <th>ddof1</th>\n",
       "      <th>ddof2</th>\n",
       "      <th>F</th>\n",
       "      <th>p-unc</th>\n",
       "      <th>np2</th>\n",
       "    </tr>\n",
       "  </thead>\n",
       "  <tbody>\n",
       "    <tr>\n",
       "      <td>0</td>\n",
       "      <td>group</td>\n",
       "      <td>2</td>\n",
       "      <td>356.616722</td>\n",
       "      <td>1.333752</td>\n",
       "      <td>0.264798</td>\n",
       "      <td>0.005368</td>\n",
       "    </tr>\n",
       "  </tbody>\n",
       "</table>\n",
       "</div>"
      ],
      "text/plain": [
       "  Source  ddof1       ddof2         F     p-unc       np2\n",
       "0  group      2  356.616722  1.333752  0.264798  0.005368"
      ]
     },
     "metadata": {},
     "output_type": "display_data"
    },
    {
     "name": "stdout",
     "output_type": "stream",
     "text": [
      "no effect\n",
      " \n",
      " \n",
      "waist_circumference , ANOVA, BL, all_groups = True , ITT = False  :\n"
     ]
    },
    {
     "data": {
      "image/png": "[encoded data removed]",
      "text/plain": [
       "<Figure size 432x288 with 1 Axes>"
      ]
     },
     "metadata": {
      "needs_background": "light"
     },
     "output_type": "display_data"
    },
    {
     "data": {
      "text/html": [
       "<div>\n",
       "<style scoped>\n",
       "    .dataframe tbody tr th:only-of-type {\n",
       "        vertical-align: middle;\n",
       "    }\n",
       "\n",
       "    .dataframe tbody tr th {\n",
       "        vertical-align: top;\n",
       "    }\n",
       "\n",
       "    .dataframe thead th {\n",
       "        text-align: right;\n",
       "    }\n",
       "</style>\n",
       "<table border=\"1\" class=\"dataframe\">\n",
       "  <thead>\n",
       "    <tr style=\"text-align: right;\">\n",
       "      <th></th>\n",
       "      <th>mean</th>\n",
       "      <th>SD</th>\n",
       "      <th>N</th>\n",
       "      <th>year</th>\n",
       "    </tr>\n",
       "  </thead>\n",
       "  <tbody>\n",
       "    <tr>\n",
       "      <td>intervention</td>\n",
       "      <td>82.059016</td>\n",
       "      <td>8.830116</td>\n",
       "      <td>183</td>\n",
       "      <td>0</td>\n",
       "    </tr>\n",
       "    <tr>\n",
       "      <td>control</td>\n",
       "      <td>80.277019</td>\n",
       "      <td>8.010657</td>\n",
       "      <td>161</td>\n",
       "      <td>0</td>\n",
       "    </tr>\n",
       "    <tr>\n",
       "      <td>active</td>\n",
       "      <td>79.352609</td>\n",
       "      <td>8.628950</td>\n",
       "      <td>230</td>\n",
       "      <td>0</td>\n",
       "    </tr>\n",
       "  </tbody>\n",
       "</table>\n",
       "</div>"
      ],
      "text/plain": [
       "                   mean        SD    N  year\n",
       "intervention  82.059016  8.830116  183     0\n",
       "control       80.277019  8.010657  161     0\n",
       "active        79.352609  8.628950  230     0"
      ]
     },
     "metadata": {},
     "output_type": "display_data"
    },
    {
     "name": "stdout",
     "output_type": "stream",
     "text": [
      "general statistics for waist_circumference\n",
      "\n",
      "---------------------------\n",
      "waist_circumference , ANOVA, all_groups = True , ITT = False  :\n"
     ]
    },
    {
     "data": {
      "text/html": [
       "<div>\n",
       "<style scoped>\n",
       "    .dataframe tbody tr th:only-of-type {\n",
       "        vertical-align: middle;\n",
       "    }\n",
       "\n",
       "    .dataframe tbody tr th {\n",
       "        vertical-align: top;\n",
       "    }\n",
       "\n",
       "    .dataframe thead th {\n",
       "        text-align: right;\n",
       "    }\n",
       "</style>\n",
       "<table border=\"1\" class=\"dataframe\">\n",
       "  <thead>\n",
       "    <tr style=\"text-align: right;\">\n",
       "      <th></th>\n",
       "      <th>Source</th>\n",
       "      <th>ddof1</th>\n",
       "      <th>ddof2</th>\n",
       "      <th>F</th>\n",
       "      <th>p-unc</th>\n",
       "      <th>np2</th>\n",
       "    </tr>\n",
       "  </thead>\n",
       "  <tbody>\n",
       "    <tr>\n",
       "      <td>0</td>\n",
       "      <td>group</td>\n",
       "      <td>2</td>\n",
       "      <td>365.997975</td>\n",
       "      <td>4.901641</td>\n",
       "      <td>0.00793</td>\n",
       "      <td>0.017778</td>\n",
       "    </tr>\n",
       "  </tbody>\n",
       "</table>\n",
       "</div>"
      ],
      "text/plain": [
       "  Source  ddof1       ddof2         F    p-unc       np2\n",
       "0  group      2  365.997975  4.901641  0.00793  0.017778"
      ]
     },
     "metadata": {},
     "output_type": "display_data"
    },
    {
     "name": "stdout",
     "output_type": "stream",
     "text": [
      "SIGNIFICANT\n"
     ]
    },
    {
     "data": {
      "text/html": [
       "<div>\n",
       "<style scoped>\n",
       "    .dataframe tbody tr th:only-of-type {\n",
       "        vertical-align: middle;\n",
       "    }\n",
       "\n",
       "    .dataframe tbody tr th {\n",
       "        vertical-align: top;\n",
       "    }\n",
       "\n",
       "    .dataframe thead th {\n",
       "        text-align: right;\n",
       "    }\n",
       "</style>\n",
       "<table border=\"1\" class=\"dataframe\">\n",
       "  <thead>\n",
       "    <tr style=\"text-align: right;\">\n",
       "      <th></th>\n",
       "      <th>A</th>\n",
       "      <th>B</th>\n",
       "      <th>mean(A)</th>\n",
       "      <th>mean(B)</th>\n",
       "      <th>diff</th>\n",
       "      <th>se</th>\n",
       "      <th>T</th>\n",
       "      <th>p-tukey</th>\n",
       "      <th>hedges</th>\n",
       "    </tr>\n",
       "  </thead>\n",
       "  <tbody>\n",
       "    <tr>\n",
       "      <td>0</td>\n",
       "      <td>active</td>\n",
       "      <td>control</td>\n",
       "      <td>79.352609</td>\n",
       "      <td>80.277019</td>\n",
       "      <td>-0.924410</td>\n",
       "      <td>0.878406</td>\n",
       "      <td>-1.052372</td>\n",
       "      <td>0.605739</td>\n",
       "      <td>-0.107930</td>\n",
       "    </tr>\n",
       "    <tr>\n",
       "      <td>1</td>\n",
       "      <td>active</td>\n",
       "      <td>intervention</td>\n",
       "      <td>79.352609</td>\n",
       "      <td>82.059016</td>\n",
       "      <td>-2.706408</td>\n",
       "      <td>0.846777</td>\n",
       "      <td>-3.196127</td>\n",
       "      <td>0.004013</td>\n",
       "      <td>-0.316021</td>\n",
       "    </tr>\n",
       "    <tr>\n",
       "      <td>2</td>\n",
       "      <td>control</td>\n",
       "      <td>intervention</td>\n",
       "      <td>80.277019</td>\n",
       "      <td>82.059016</td>\n",
       "      <td>-1.781998</td>\n",
       "      <td>0.923686</td>\n",
       "      <td>-1.929225</td>\n",
       "      <td>0.130636</td>\n",
       "      <td>-0.208003</td>\n",
       "    </tr>\n",
       "  </tbody>\n",
       "</table>\n",
       "</div>"
      ],
      "text/plain": [
       "         A             B    mean(A)    mean(B)      diff        se         T  \\\n",
       "0   active       control  79.352609  80.277019 -0.924410  0.878406 -1.052372   \n",
       "1   active  intervention  79.352609  82.059016 -2.706408  0.846777 -3.196127   \n",
       "2  control  intervention  80.277019  82.059016 -1.781998  0.923686 -1.929225   \n",
       "\n",
       "    p-tukey    hedges  \n",
       "0  0.605739 -0.107930  \n",
       "1  0.004013 -0.316021  \n",
       "2  0.130636 -0.208003  "
      ]
     },
     "metadata": {},
     "output_type": "display_data"
    },
    {
     "name": "stdout",
     "output_type": "stream",
     "text": [
      " \n",
      " \n",
      "HR , ANOVA, BL, all_groups = True , ITT = False  :\n"
     ]
    },
    {
     "data": {
      "image/png": "[encoded data removed]",
      "text/plain": [
       "<Figure size 432x288 with 1 Axes>"
      ]
     },
     "metadata": {
      "needs_background": "light"
     },
     "output_type": "display_data"
    },
    {
     "data": {
      "text/html": [
       "<div>\n",
       "<style scoped>\n",
       "    .dataframe tbody tr th:only-of-type {\n",
       "        vertical-align: middle;\n",
       "    }\n",
       "\n",
       "    .dataframe tbody tr th {\n",
       "        vertical-align: top;\n",
       "    }\n",
       "\n",
       "    .dataframe thead th {\n",
       "        text-align: right;\n",
       "    }\n",
       "</style>\n",
       "<table border=\"1\" class=\"dataframe\">\n",
       "  <thead>\n",
       "    <tr style=\"text-align: right;\">\n",
       "      <th></th>\n",
       "      <th>mean</th>\n",
       "      <th>SD</th>\n",
       "      <th>N</th>\n",
       "      <th>year</th>\n",
       "    </tr>\n",
       "  </thead>\n",
       "  <tbody>\n",
       "    <tr>\n",
       "      <td>intervention</td>\n",
       "      <td>65.120219</td>\n",
       "      <td>12.858489</td>\n",
       "      <td>183</td>\n",
       "      <td>0</td>\n",
       "    </tr>\n",
       "    <tr>\n",
       "      <td>control</td>\n",
       "      <td>64.981366</td>\n",
       "      <td>10.220228</td>\n",
       "      <td>161</td>\n",
       "      <td>0</td>\n",
       "    </tr>\n",
       "    <tr>\n",
       "      <td>active</td>\n",
       "      <td>60.804348</td>\n",
       "      <td>11.158969</td>\n",
       "      <td>230</td>\n",
       "      <td>0</td>\n",
       "    </tr>\n",
       "  </tbody>\n",
       "</table>\n",
       "</div>"
      ],
      "text/plain": [
       "                   mean         SD    N  year\n",
       "intervention  65.120219  12.858489  183     0\n",
       "control       64.981366  10.220228  161     0\n",
       "active        60.804348  11.158969  230     0"
      ]
     },
     "metadata": {},
     "output_type": "display_data"
    },
    {
     "name": "stdout",
     "output_type": "stream",
     "text": [
      "general statistics for HR\n",
      "\n",
      "---------------------------\n",
      "HR , ANOVA, all_groups = True , ITT = False  :\n"
     ]
    },
    {
     "data": {
      "text/html": [
       "<div>\n",
       "<style scoped>\n",
       "    .dataframe tbody tr th:only-of-type {\n",
       "        vertical-align: middle;\n",
       "    }\n",
       "\n",
       "    .dataframe tbody tr th {\n",
       "        vertical-align: top;\n",
       "    }\n",
       "\n",
       "    .dataframe thead th {\n",
       "        text-align: right;\n",
       "    }\n",
       "</style>\n",
       "<table border=\"1\" class=\"dataframe\">\n",
       "  <thead>\n",
       "    <tr style=\"text-align: right;\">\n",
       "      <th></th>\n",
       "      <th>Source</th>\n",
       "      <th>ddof1</th>\n",
       "      <th>ddof2</th>\n",
       "      <th>F</th>\n",
       "      <th>p-unc</th>\n",
       "      <th>np2</th>\n",
       "    </tr>\n",
       "  </thead>\n",
       "  <tbody>\n",
       "    <tr>\n",
       "      <td>0</td>\n",
       "      <td>group</td>\n",
       "      <td>2</td>\n",
       "      <td>363.440854</td>\n",
       "      <td>9.697866</td>\n",
       "      <td>0.000079</td>\n",
       "      <td>0.03187</td>\n",
       "    </tr>\n",
       "  </tbody>\n",
       "</table>\n",
       "</div>"
      ],
      "text/plain": [
       "  Source  ddof1       ddof2         F     p-unc      np2\n",
       "0  group      2  363.440854  9.697866  0.000079  0.03187"
      ]
     },
     "metadata": {},
     "output_type": "display_data"
    },
    {
     "name": "stdout",
     "output_type": "stream",
     "text": [
      "SIGNIFICANT\n"
     ]
    },
    {
     "data": {
      "text/html": [
       "<div>\n",
       "<style scoped>\n",
       "    .dataframe tbody tr th:only-of-type {\n",
       "        vertical-align: middle;\n",
       "    }\n",
       "\n",
       "    .dataframe tbody tr th {\n",
       "        vertical-align: top;\n",
       "    }\n",
       "\n",
       "    .dataframe thead th {\n",
       "        text-align: right;\n",
       "    }\n",
       "</style>\n",
       "<table border=\"1\" class=\"dataframe\">\n",
       "  <thead>\n",
       "    <tr style=\"text-align: right;\">\n",
       "      <th></th>\n",
       "      <th>A</th>\n",
       "      <th>B</th>\n",
       "      <th>mean(A)</th>\n",
       "      <th>mean(B)</th>\n",
       "      <th>diff</th>\n",
       "      <th>se</th>\n",
       "      <th>T</th>\n",
       "      <th>p-tukey</th>\n",
       "      <th>hedges</th>\n",
       "    </tr>\n",
       "  </thead>\n",
       "  <tbody>\n",
       "    <tr>\n",
       "      <td>0</td>\n",
       "      <td>active</td>\n",
       "      <td>control</td>\n",
       "      <td>60.804348</td>\n",
       "      <td>64.981366</td>\n",
       "      <td>-4.177019</td>\n",
       "      <td>1.183268</td>\n",
       "      <td>-3.530071</td>\n",
       "      <td>0.00122</td>\n",
       "      <td>-0.362040</td>\n",
       "    </tr>\n",
       "    <tr>\n",
       "      <td>1</td>\n",
       "      <td>active</td>\n",
       "      <td>intervention</td>\n",
       "      <td>60.804348</td>\n",
       "      <td>65.120219</td>\n",
       "      <td>-4.315871</td>\n",
       "      <td>1.140662</td>\n",
       "      <td>-3.783654</td>\n",
       "      <td>0.00100</td>\n",
       "      <td>-0.374113</td>\n",
       "    </tr>\n",
       "    <tr>\n",
       "      <td>2</td>\n",
       "      <td>control</td>\n",
       "      <td>intervention</td>\n",
       "      <td>64.981366</td>\n",
       "      <td>65.120219</td>\n",
       "      <td>-0.138852</td>\n",
       "      <td>1.244263</td>\n",
       "      <td>-0.111594</td>\n",
       "      <td>0.90000</td>\n",
       "      <td>-0.012032</td>\n",
       "    </tr>\n",
       "  </tbody>\n",
       "</table>\n",
       "</div>"
      ],
      "text/plain": [
       "         A             B    mean(A)    mean(B)      diff        se         T  \\\n",
       "0   active       control  60.804348  64.981366 -4.177019  1.183268 -3.530071   \n",
       "1   active  intervention  60.804348  65.120219 -4.315871  1.140662 -3.783654   \n",
       "2  control  intervention  64.981366  65.120219 -0.138852  1.244263 -0.111594   \n",
       "\n",
       "   p-tukey    hedges  \n",
       "0  0.00122 -0.362040  \n",
       "1  0.00100 -0.374113  \n",
       "2  0.90000 -0.012032  "
      ]
     },
     "metadata": {},
     "output_type": "display_data"
    },
    {
     "name": "stdout",
     "output_type": "stream",
     "text": [
      " \n",
      " \n",
      "bMAP , ANOVA, BL, all_groups = True , ITT = False  :\n"
     ]
    },
    {
     "name": "stderr",
     "output_type": "stream",
     "text": [
      "C:\\Users\\BMELAB\\Anaconda3\\lib\\site-packages\\outdated\\utils.py:18: OutdatedCheckFailedWarning: Failed to check for latest version of package.\n",
      "Set the environment variable OUTDATED_RAISE_EXCEPTION=1 for a full traceback.\n",
      "Set the environment variable OUTDATED_IGNORE=1 to disable these warnings.\n",
      "  **kwargs\n"
     ]
    },
    {
     "data": {
      "image/png": "[encoded data removed]",
      "text/plain": [
       "<Figure size 432x288 with 1 Axes>"
      ]
     },
     "metadata": {
      "needs_background": "light"
     },
     "output_type": "display_data"
    },
    {
     "data": {
      "text/html": [
       "<div>\n",
       "<style scoped>\n",
       "    .dataframe tbody tr th:only-of-type {\n",
       "        vertical-align: middle;\n",
       "    }\n",
       "\n",
       "    .dataframe tbody tr th {\n",
       "        vertical-align: top;\n",
       "    }\n",
       "\n",
       "    .dataframe thead th {\n",
       "        text-align: right;\n",
       "    }\n",
       "</style>\n",
       "<table border=\"1\" class=\"dataframe\">\n",
       "  <thead>\n",
       "    <tr style=\"text-align: right;\">\n",
       "      <th></th>\n",
       "      <th>mean</th>\n",
       "      <th>SD</th>\n",
       "      <th>N</th>\n",
       "      <th>year</th>\n",
       "    </tr>\n",
       "  </thead>\n",
       "  <tbody>\n",
       "    <tr>\n",
       "      <td>intervention</td>\n",
       "      <td>89.428962</td>\n",
       "      <td>12.424873</td>\n",
       "      <td>183</td>\n",
       "      <td>0</td>\n",
       "    </tr>\n",
       "    <tr>\n",
       "      <td>control</td>\n",
       "      <td>87.521739</td>\n",
       "      <td>10.934353</td>\n",
       "      <td>161</td>\n",
       "      <td>0</td>\n",
       "    </tr>\n",
       "    <tr>\n",
       "      <td>active</td>\n",
       "      <td>90.482609</td>\n",
       "      <td>11.917001</td>\n",
       "      <td>230</td>\n",
       "      <td>0</td>\n",
       "    </tr>\n",
       "  </tbody>\n",
       "</table>\n",
       "</div>"
      ],
      "text/plain": [
       "                   mean         SD    N  year\n",
       "intervention  89.428962  12.424873  183     0\n",
       "control       87.521739  10.934353  161     0\n",
       "active        90.482609  11.917001  230     0"
      ]
     },
     "metadata": {},
     "output_type": "display_data"
    },
    {
     "name": "stdout",
     "output_type": "stream",
     "text": [
      "general statistics for bMAP\n",
      "\n",
      "---------------------------\n",
      "bMAP , ANOVA, all_groups = True , ITT = False  :\n"
     ]
    },
    {
     "data": {
      "text/html": [
       "<div>\n",
       "<style scoped>\n",
       "    .dataframe tbody tr th:only-of-type {\n",
       "        vertical-align: middle;\n",
       "    }\n",
       "\n",
       "    .dataframe tbody tr th {\n",
       "        vertical-align: top;\n",
       "    }\n",
       "\n",
       "    .dataframe thead th {\n",
       "        text-align: right;\n",
       "    }\n",
       "</style>\n",
       "<table border=\"1\" class=\"dataframe\">\n",
       "  <thead>\n",
       "    <tr style=\"text-align: right;\">\n",
       "      <th></th>\n",
       "      <th>Source</th>\n",
       "      <th>ddof1</th>\n",
       "      <th>ddof2</th>\n",
       "      <th>F</th>\n",
       "      <th>p-unc</th>\n",
       "      <th>np2</th>\n",
       "    </tr>\n",
       "  </thead>\n",
       "  <tbody>\n",
       "    <tr>\n",
       "      <td>0</td>\n",
       "      <td>group</td>\n",
       "      <td>2</td>\n",
       "      <td>366.138587</td>\n",
       "      <td>3.234952</td>\n",
       "      <td>0.04049</td>\n",
       "      <td>0.010293</td>\n",
       "    </tr>\n",
       "  </tbody>\n",
       "</table>\n",
       "</div>"
      ],
      "text/plain": [
       "  Source  ddof1       ddof2         F    p-unc       np2\n",
       "0  group      2  366.138587  3.234952  0.04049  0.010293"
      ]
     },
     "metadata": {},
     "output_type": "display_data"
    },
    {
     "name": "stdout",
     "output_type": "stream",
     "text": [
      "SIGNIFICANT\n"
     ]
    },
    {
     "data": {
      "text/html": [
       "<div>\n",
       "<style scoped>\n",
       "    .dataframe tbody tr th:only-of-type {\n",
       "        vertical-align: middle;\n",
       "    }\n",
       "\n",
       "    .dataframe tbody tr th {\n",
       "        vertical-align: top;\n",
       "    }\n",
       "\n",
       "    .dataframe thead th {\n",
       "        text-align: right;\n",
       "    }\n",
       "</style>\n",
       "<table border=\"1\" class=\"dataframe\">\n",
       "  <thead>\n",
       "    <tr style=\"text-align: right;\">\n",
       "      <th></th>\n",
       "      <th>A</th>\n",
       "      <th>B</th>\n",
       "      <th>mean(A)</th>\n",
       "      <th>mean(B)</th>\n",
       "      <th>diff</th>\n",
       "      <th>se</th>\n",
       "      <th>T</th>\n",
       "      <th>p-tukey</th>\n",
       "      <th>hedges</th>\n",
       "    </tr>\n",
       "  </thead>\n",
       "  <tbody>\n",
       "    <tr>\n",
       "      <td>0</td>\n",
       "      <td>active</td>\n",
       "      <td>control</td>\n",
       "      <td>90.482609</td>\n",
       "      <td>87.521739</td>\n",
       "      <td>2.960870</td>\n",
       "      <td>1.217537</td>\n",
       "      <td>2.431851</td>\n",
       "      <td>0.039987</td>\n",
       "      <td>0.249408</td>\n",
       "    </tr>\n",
       "    <tr>\n",
       "      <td>1</td>\n",
       "      <td>active</td>\n",
       "      <td>intervention</td>\n",
       "      <td>90.482609</td>\n",
       "      <td>89.428962</td>\n",
       "      <td>1.053647</td>\n",
       "      <td>1.173698</td>\n",
       "      <td>0.897716</td>\n",
       "      <td>0.712640</td>\n",
       "      <td>0.088763</td>\n",
       "    </tr>\n",
       "    <tr>\n",
       "      <td>2</td>\n",
       "      <td>control</td>\n",
       "      <td>intervention</td>\n",
       "      <td>87.521739</td>\n",
       "      <td>89.428962</td>\n",
       "      <td>-1.907223</td>\n",
       "      <td>1.280299</td>\n",
       "      <td>-1.489669</td>\n",
       "      <td>0.296485</td>\n",
       "      <td>-0.160611</td>\n",
       "    </tr>\n",
       "  </tbody>\n",
       "</table>\n",
       "</div>"
      ],
      "text/plain": [
       "         A             B    mean(A)    mean(B)      diff        se         T  \\\n",
       "0   active       control  90.482609  87.521739  2.960870  1.217537  2.431851   \n",
       "1   active  intervention  90.482609  89.428962  1.053647  1.173698  0.897716   \n",
       "2  control  intervention  87.521739  89.428962 -1.907223  1.280299 -1.489669   \n",
       "\n",
       "    p-tukey    hedges  \n",
       "0  0.039987  0.249408  \n",
       "1  0.712640  0.088763  \n",
       "2  0.296485 -0.160611  "
      ]
     },
     "metadata": {},
     "output_type": "display_data"
    },
    {
     "name": "stdout",
     "output_type": "stream",
     "text": [
      " \n",
      " \n",
      "baPWV , ANOVA, BL, all_groups = True , ITT = False  :\n"
     ]
    },
    {
     "data": {
      "image/png": "[encoded data removed]",
      "text/plain": [
       "<Figure size 432x288 with 1 Axes>"
      ]
     },
     "metadata": {
      "needs_background": "light"
     },
     "output_type": "display_data"
    },
    {
     "data": {
      "text/html": [
       "<div>\n",
       "<style scoped>\n",
       "    .dataframe tbody tr th:only-of-type {\n",
       "        vertical-align: middle;\n",
       "    }\n",
       "\n",
       "    .dataframe tbody tr th {\n",
       "        vertical-align: top;\n",
       "    }\n",
       "\n",
       "    .dataframe thead th {\n",
       "        text-align: right;\n",
       "    }\n",
       "</style>\n",
       "<table border=\"1\" class=\"dataframe\">\n",
       "  <thead>\n",
       "    <tr style=\"text-align: right;\">\n",
       "      <th></th>\n",
       "      <th>mean</th>\n",
       "      <th>SD</th>\n",
       "      <th>N</th>\n",
       "      <th>year</th>\n",
       "    </tr>\n",
       "  </thead>\n",
       "  <tbody>\n",
       "    <tr>\n",
       "      <td>intervention</td>\n",
       "      <td>1235.836066</td>\n",
       "      <td>184.996841</td>\n",
       "      <td>183</td>\n",
       "      <td>0</td>\n",
       "    </tr>\n",
       "    <tr>\n",
       "      <td>control</td>\n",
       "      <td>1229.189441</td>\n",
       "      <td>157.303125</td>\n",
       "      <td>161</td>\n",
       "      <td>0</td>\n",
       "    </tr>\n",
       "    <tr>\n",
       "      <td>active</td>\n",
       "      <td>1228.006522</td>\n",
       "      <td>143.654942</td>\n",
       "      <td>230</td>\n",
       "      <td>0</td>\n",
       "    </tr>\n",
       "  </tbody>\n",
       "</table>\n",
       "</div>"
      ],
      "text/plain": [
       "                     mean          SD    N  year\n",
       "intervention  1235.836066  184.996841  183     0\n",
       "control       1229.189441  157.303125  161     0\n",
       "active        1228.006522  143.654942  230     0"
      ]
     },
     "metadata": {},
     "output_type": "display_data"
    },
    {
     "name": "stdout",
     "output_type": "stream",
     "text": [
      "general statistics for baPWV\n",
      "\n",
      "---------------------------\n",
      "baPWV , ANOVA, all_groups = True , ITT = False  :\n"
     ]
    },
    {
     "data": {
      "text/html": [
       "<div>\n",
       "<style scoped>\n",
       "    .dataframe tbody tr th:only-of-type {\n",
       "        vertical-align: middle;\n",
       "    }\n",
       "\n",
       "    .dataframe tbody tr th {\n",
       "        vertical-align: top;\n",
       "    }\n",
       "\n",
       "    .dataframe thead th {\n",
       "        text-align: right;\n",
       "    }\n",
       "</style>\n",
       "<table border=\"1\" class=\"dataframe\">\n",
       "  <thead>\n",
       "    <tr style=\"text-align: right;\">\n",
       "      <th></th>\n",
       "      <th>Source</th>\n",
       "      <th>ddof1</th>\n",
       "      <th>ddof2</th>\n",
       "      <th>F</th>\n",
       "      <th>p-unc</th>\n",
       "      <th>np2</th>\n",
       "    </tr>\n",
       "  </thead>\n",
       "  <tbody>\n",
       "    <tr>\n",
       "      <td>0</td>\n",
       "      <td>group</td>\n",
       "      <td>2</td>\n",
       "      <td>350.316465</td>\n",
       "      <td>0.114224</td>\n",
       "      <td>0.892091</td>\n",
       "      <td>0.000457</td>\n",
       "    </tr>\n",
       "  </tbody>\n",
       "</table>\n",
       "</div>"
      ],
      "text/plain": [
       "  Source  ddof1       ddof2         F     p-unc       np2\n",
       "0  group      2  350.316465  0.114224  0.892091  0.000457"
      ]
     },
     "metadata": {},
     "output_type": "display_data"
    },
    {
     "name": "stdout",
     "output_type": "stream",
     "text": [
      "no effect\n",
      " \n",
      " \n",
      "glucose , ANOVA, BL, all_groups = True , ITT = False  :\n"
     ]
    },
    {
     "data": {
      "image/png": "[encoded data removed]",
      "text/plain": [
       "<Figure size 432x288 with 1 Axes>"
      ]
     },
     "metadata": {
      "needs_background": "light"
     },
     "output_type": "display_data"
    },
    {
     "data": {
      "text/html": [
       "<div>\n",
       "<style scoped>\n",
       "    .dataframe tbody tr th:only-of-type {\n",
       "        vertical-align: middle;\n",
       "    }\n",
       "\n",
       "    .dataframe tbody tr th {\n",
       "        vertical-align: top;\n",
       "    }\n",
       "\n",
       "    .dataframe thead th {\n",
       "        text-align: right;\n",
       "    }\n",
       "</style>\n",
       "<table border=\"1\" class=\"dataframe\">\n",
       "  <thead>\n",
       "    <tr style=\"text-align: right;\">\n",
       "      <th></th>\n",
       "      <th>mean</th>\n",
       "      <th>SD</th>\n",
       "      <th>N</th>\n",
       "      <th>year</th>\n",
       "    </tr>\n",
       "  </thead>\n",
       "  <tbody>\n",
       "    <tr>\n",
       "      <td>intervention</td>\n",
       "      <td>89.961749</td>\n",
       "      <td>8.357037</td>\n",
       "      <td>183</td>\n",
       "      <td>0</td>\n",
       "    </tr>\n",
       "    <tr>\n",
       "      <td>control</td>\n",
       "      <td>88.322981</td>\n",
       "      <td>9.529035</td>\n",
       "      <td>161</td>\n",
       "      <td>0</td>\n",
       "    </tr>\n",
       "    <tr>\n",
       "      <td>active</td>\n",
       "      <td>89.986957</td>\n",
       "      <td>8.204707</td>\n",
       "      <td>230</td>\n",
       "      <td>0</td>\n",
       "    </tr>\n",
       "  </tbody>\n",
       "</table>\n",
       "</div>"
      ],
      "text/plain": [
       "                   mean        SD    N  year\n",
       "intervention  89.961749  8.357037  183     0\n",
       "control       88.322981  9.529035  161     0\n",
       "active        89.986957  8.204707  230     0"
      ]
     },
     "metadata": {},
     "output_type": "display_data"
    },
    {
     "name": "stdout",
     "output_type": "stream",
     "text": [
      "general statistics for glucose\n",
      "\n",
      "---------------------------\n",
      "glucose , ANOVA, all_groups = True , ITT = False  :\n"
     ]
    },
    {
     "data": {
      "text/html": [
       "<div>\n",
       "<style scoped>\n",
       "    .dataframe tbody tr th:only-of-type {\n",
       "        vertical-align: middle;\n",
       "    }\n",
       "\n",
       "    .dataframe tbody tr th {\n",
       "        vertical-align: top;\n",
       "    }\n",
       "\n",
       "    .dataframe thead th {\n",
       "        text-align: right;\n",
       "    }\n",
       "</style>\n",
       "<table border=\"1\" class=\"dataframe\">\n",
       "  <thead>\n",
       "    <tr style=\"text-align: right;\">\n",
       "      <th></th>\n",
       "      <th>Source</th>\n",
       "      <th>ddof1</th>\n",
       "      <th>ddof2</th>\n",
       "      <th>F</th>\n",
       "      <th>p-unc</th>\n",
       "      <th>np2</th>\n",
       "    </tr>\n",
       "  </thead>\n",
       "  <tbody>\n",
       "    <tr>\n",
       "      <td>0</td>\n",
       "      <td>group</td>\n",
       "      <td>2</td>\n",
       "      <td>353.496726</td>\n",
       "      <td>1.858453</td>\n",
       "      <td>0.157434</td>\n",
       "      <td>0.007327</td>\n",
       "    </tr>\n",
       "  </tbody>\n",
       "</table>\n",
       "</div>"
      ],
      "text/plain": [
       "  Source  ddof1       ddof2         F     p-unc       np2\n",
       "0  group      2  353.496726  1.858453  0.157434  0.007327"
      ]
     },
     "metadata": {},
     "output_type": "display_data"
    },
    {
     "name": "stdout",
     "output_type": "stream",
     "text": [
      "no effect\n",
      " \n",
      " \n",
      "HbA1c , ANOVA, BL, all_groups = True , ITT = False  :\n"
     ]
    },
    {
     "data": {
      "image/png": "[encoded data removed]",
      "text/plain": [
       "<Figure size 432x288 with 1 Axes>"
      ]
     },
     "metadata": {
      "needs_background": "light"
     },
     "output_type": "display_data"
    },
    {
     "data": {
      "text/html": [
       "<div>\n",
       "<style scoped>\n",
       "    .dataframe tbody tr th:only-of-type {\n",
       "        vertical-align: middle;\n",
       "    }\n",
       "\n",
       "    .dataframe tbody tr th {\n",
       "        vertical-align: top;\n",
       "    }\n",
       "\n",
       "    .dataframe thead th {\n",
       "        text-align: right;\n",
       "    }\n",
       "</style>\n",
       "<table border=\"1\" class=\"dataframe\">\n",
       "  <thead>\n",
       "    <tr style=\"text-align: right;\">\n",
       "      <th></th>\n",
       "      <th>mean</th>\n",
       "      <th>SD</th>\n",
       "      <th>N</th>\n",
       "      <th>year</th>\n",
       "    </tr>\n",
       "  </thead>\n",
       "  <tbody>\n",
       "    <tr>\n",
       "      <td>intervention</td>\n",
       "      <td>5.304372</td>\n",
       "      <td>0.323205</td>\n",
       "      <td>183</td>\n",
       "      <td>0</td>\n",
       "    </tr>\n",
       "    <tr>\n",
       "      <td>control</td>\n",
       "      <td>5.303727</td>\n",
       "      <td>0.330422</td>\n",
       "      <td>161</td>\n",
       "      <td>0</td>\n",
       "    </tr>\n",
       "    <tr>\n",
       "      <td>active</td>\n",
       "      <td>5.286522</td>\n",
       "      <td>0.337434</td>\n",
       "      <td>230</td>\n",
       "      <td>0</td>\n",
       "    </tr>\n",
       "  </tbody>\n",
       "</table>\n",
       "</div>"
      ],
      "text/plain": [
       "                  mean        SD    N  year\n",
       "intervention  5.304372  0.323205  183     0\n",
       "control       5.303727  0.330422  161     0\n",
       "active        5.286522  0.337434  230     0"
      ]
     },
     "metadata": {},
     "output_type": "display_data"
    },
    {
     "name": "stdout",
     "output_type": "stream",
     "text": [
      "general statistics for HbA1c\n",
      "\n",
      "---------------------------\n",
      "HbA1c , ANOVA, all_groups = True , ITT = False  :\n"
     ]
    },
    {
     "data": {
      "text/html": [
       "<div>\n",
       "<style scoped>\n",
       "    .dataframe tbody tr th:only-of-type {\n",
       "        vertical-align: middle;\n",
       "    }\n",
       "\n",
       "    .dataframe tbody tr th {\n",
       "        vertical-align: top;\n",
       "    }\n",
       "\n",
       "    .dataframe thead th {\n",
       "        text-align: right;\n",
       "    }\n",
       "</style>\n",
       "<table border=\"1\" class=\"dataframe\">\n",
       "  <thead>\n",
       "    <tr style=\"text-align: right;\">\n",
       "      <th></th>\n",
       "      <th>Source</th>\n",
       "      <th>ddof1</th>\n",
       "      <th>ddof2</th>\n",
       "      <th>F</th>\n",
       "      <th>p-unc</th>\n",
       "      <th>np2</th>\n",
       "    </tr>\n",
       "  </thead>\n",
       "  <tbody>\n",
       "    <tr>\n",
       "      <td>0</td>\n",
       "      <td>group</td>\n",
       "      <td>2</td>\n",
       "      <td>364.258373</td>\n",
       "      <td>0.190301</td>\n",
       "      <td>0.826793</td>\n",
       "      <td>0.000675</td>\n",
       "    </tr>\n",
       "  </tbody>\n",
       "</table>\n",
       "</div>"
      ],
      "text/plain": [
       "  Source  ddof1       ddof2         F     p-unc       np2\n",
       "0  group      2  364.258373  0.190301  0.826793  0.000675"
      ]
     },
     "metadata": {},
     "output_type": "display_data"
    },
    {
     "name": "stdout",
     "output_type": "stream",
     "text": [
      "no effect\n",
      " \n",
      " \n",
      "TG_(neutral fat) , ANOVA, BL, all_groups = True , ITT = False  :\n"
     ]
    },
    {
     "data": {
      "image/png": "[encoded data removed]",
      "text/plain": [
       "<Figure size 432x288 with 1 Axes>"
      ]
     },
     "metadata": {
      "needs_background": "light"
     },
     "output_type": "display_data"
    },
    {
     "data": {
      "text/html": [
       "<div>\n",
       "<style scoped>\n",
       "    .dataframe tbody tr th:only-of-type {\n",
       "        vertical-align: middle;\n",
       "    }\n",
       "\n",
       "    .dataframe tbody tr th {\n",
       "        vertical-align: top;\n",
       "    }\n",
       "\n",
       "    .dataframe thead th {\n",
       "        text-align: right;\n",
       "    }\n",
       "</style>\n",
       "<table border=\"1\" class=\"dataframe\">\n",
       "  <thead>\n",
       "    <tr style=\"text-align: right;\">\n",
       "      <th></th>\n",
       "      <th>mean</th>\n",
       "      <th>SD</th>\n",
       "      <th>N</th>\n",
       "      <th>year</th>\n",
       "    </tr>\n",
       "  </thead>\n",
       "  <tbody>\n",
       "    <tr>\n",
       "      <td>intervention</td>\n",
       "      <td>89.759563</td>\n",
       "      <td>48.908715</td>\n",
       "      <td>183</td>\n",
       "      <td>0</td>\n",
       "    </tr>\n",
       "    <tr>\n",
       "      <td>control</td>\n",
       "      <td>90.484472</td>\n",
       "      <td>60.239285</td>\n",
       "      <td>161</td>\n",
       "      <td>0</td>\n",
       "    </tr>\n",
       "    <tr>\n",
       "      <td>active</td>\n",
       "      <td>83.604348</td>\n",
       "      <td>45.484493</td>\n",
       "      <td>230</td>\n",
       "      <td>0</td>\n",
       "    </tr>\n",
       "  </tbody>\n",
       "</table>\n",
       "</div>"
      ],
      "text/plain": [
       "                   mean         SD    N  year\n",
       "intervention  89.759563  48.908715  183     0\n",
       "control       90.484472  60.239285  161     0\n",
       "active        83.604348  45.484493  230     0"
      ]
     },
     "metadata": {},
     "output_type": "display_data"
    },
    {
     "name": "stdout",
     "output_type": "stream",
     "text": [
      "general statistics for TG_(neutral fat)\n",
      "\n",
      "---------------------------\n",
      "TG_(neutral fat) , ANOVA, all_groups = True , ITT = False  :\n"
     ]
    },
    {
     "data": {
      "text/html": [
       "<div>\n",
       "<style scoped>\n",
       "    .dataframe tbody tr th:only-of-type {\n",
       "        vertical-align: middle;\n",
       "    }\n",
       "\n",
       "    .dataframe tbody tr th {\n",
       "        vertical-align: top;\n",
       "    }\n",
       "\n",
       "    .dataframe thead th {\n",
       "        text-align: right;\n",
       "    }\n",
       "</style>\n",
       "<table border=\"1\" class=\"dataframe\">\n",
       "  <thead>\n",
       "    <tr style=\"text-align: right;\">\n",
       "      <th></th>\n",
       "      <th>Source</th>\n",
       "      <th>ddof1</th>\n",
       "      <th>ddof2</th>\n",
       "      <th>F</th>\n",
       "      <th>p-unc</th>\n",
       "      <th>np2</th>\n",
       "    </tr>\n",
       "  </thead>\n",
       "  <tbody>\n",
       "    <tr>\n",
       "      <td>0</td>\n",
       "      <td>group</td>\n",
       "      <td>2</td>\n",
       "      <td>344.368536</td>\n",
       "      <td>1.192892</td>\n",
       "      <td>0.304593</td>\n",
       "      <td>0.003896</td>\n",
       "    </tr>\n",
       "  </tbody>\n",
       "</table>\n",
       "</div>"
      ],
      "text/plain": [
       "  Source  ddof1       ddof2         F     p-unc       np2\n",
       "0  group      2  344.368536  1.192892  0.304593  0.003896"
      ]
     },
     "metadata": {},
     "output_type": "display_data"
    },
    {
     "name": "stdout",
     "output_type": "stream",
     "text": [
      "no effect\n",
      " \n",
      " \n",
      "tot_cholesterol , ANOVA, BL, all_groups = True , ITT = False  :\n"
     ]
    },
    {
     "data": {
      "image/png": "[encoded data removed]",
      "text/plain": [
       "<Figure size 432x288 with 1 Axes>"
      ]
     },
     "metadata": {
      "needs_background": "light"
     },
     "output_type": "display_data"
    },
    {
     "data": {
      "text/html": [
       "<div>\n",
       "<style scoped>\n",
       "    .dataframe tbody tr th:only-of-type {\n",
       "        vertical-align: middle;\n",
       "    }\n",
       "\n",
       "    .dataframe tbody tr th {\n",
       "        vertical-align: top;\n",
       "    }\n",
       "\n",
       "    .dataframe thead th {\n",
       "        text-align: right;\n",
       "    }\n",
       "</style>\n",
       "<table border=\"1\" class=\"dataframe\">\n",
       "  <thead>\n",
       "    <tr style=\"text-align: right;\">\n",
       "      <th></th>\n",
       "      <th>mean</th>\n",
       "      <th>SD</th>\n",
       "      <th>N</th>\n",
       "      <th>year</th>\n",
       "    </tr>\n",
       "  </thead>\n",
       "  <tbody>\n",
       "    <tr>\n",
       "      <td>intervention</td>\n",
       "      <td>208.125683</td>\n",
       "      <td>33.423766</td>\n",
       "      <td>183</td>\n",
       "      <td>0</td>\n",
       "    </tr>\n",
       "    <tr>\n",
       "      <td>control</td>\n",
       "      <td>207.012422</td>\n",
       "      <td>36.425366</td>\n",
       "      <td>161</td>\n",
       "      <td>0</td>\n",
       "    </tr>\n",
       "    <tr>\n",
       "      <td>active</td>\n",
       "      <td>210.500000</td>\n",
       "      <td>32.942737</td>\n",
       "      <td>230</td>\n",
       "      <td>0</td>\n",
       "    </tr>\n",
       "  </tbody>\n",
       "</table>\n",
       "</div>"
      ],
      "text/plain": [
       "                    mean         SD    N  year\n",
       "intervention  208.125683  33.423766  183     0\n",
       "control       207.012422  36.425366  161     0\n",
       "active        210.500000  32.942737  230     0"
      ]
     },
     "metadata": {},
     "output_type": "display_data"
    },
    {
     "name": "stdout",
     "output_type": "stream",
     "text": [
      "general statistics for tot_cholesterol\n",
      "\n",
      "---------------------------\n",
      "tot_cholesterol , ANOVA, all_groups = True , ITT = False  :\n"
     ]
    },
    {
     "data": {
      "text/html": [
       "<div>\n",
       "<style scoped>\n",
       "    .dataframe tbody tr th:only-of-type {\n",
       "        vertical-align: middle;\n",
       "    }\n",
       "\n",
       "    .dataframe tbody tr th {\n",
       "        vertical-align: top;\n",
       "    }\n",
       "\n",
       "    .dataframe thead th {\n",
       "        text-align: right;\n",
       "    }\n",
       "</style>\n",
       "<table border=\"1\" class=\"dataframe\">\n",
       "  <thead>\n",
       "    <tr style=\"text-align: right;\">\n",
       "      <th></th>\n",
       "      <th>Source</th>\n",
       "      <th>ddof1</th>\n",
       "      <th>ddof2</th>\n",
       "      <th>F</th>\n",
       "      <th>p-unc</th>\n",
       "      <th>np2</th>\n",
       "    </tr>\n",
       "  </thead>\n",
       "  <tbody>\n",
       "    <tr>\n",
       "      <td>0</td>\n",
       "      <td>group</td>\n",
       "      <td>2</td>\n",
       "      <td>356.538675</td>\n",
       "      <td>0.532509</td>\n",
       "      <td>0.587596</td>\n",
       "      <td>0.001886</td>\n",
       "    </tr>\n",
       "  </tbody>\n",
       "</table>\n",
       "</div>"
      ],
      "text/plain": [
       "  Source  ddof1       ddof2         F     p-unc       np2\n",
       "0  group      2  356.538675  0.532509  0.587596  0.001886"
      ]
     },
     "metadata": {},
     "output_type": "display_data"
    },
    {
     "name": "stdout",
     "output_type": "stream",
     "text": [
      "no effect\n",
      " \n",
      " \n",
      "trunk_flex , ANOVA, BL, all_groups = True , ITT = False  :\n"
     ]
    },
    {
     "data": {
      "image/png": "[encoded data removed]",
      "text/plain": [
       "<Figure size 432x288 with 1 Axes>"
      ]
     },
     "metadata": {
      "needs_background": "light"
     },
     "output_type": "display_data"
    },
    {
     "data": {
      "text/html": [
       "<div>\n",
       "<style scoped>\n",
       "    .dataframe tbody tr th:only-of-type {\n",
       "        vertical-align: middle;\n",
       "    }\n",
       "\n",
       "    .dataframe tbody tr th {\n",
       "        vertical-align: top;\n",
       "    }\n",
       "\n",
       "    .dataframe thead th {\n",
       "        text-align: right;\n",
       "    }\n",
       "</style>\n",
       "<table border=\"1\" class=\"dataframe\">\n",
       "  <thead>\n",
       "    <tr style=\"text-align: right;\">\n",
       "      <th></th>\n",
       "      <th>mean</th>\n",
       "      <th>SD</th>\n",
       "      <th>N</th>\n",
       "      <th>year</th>\n",
       "    </tr>\n",
       "  </thead>\n",
       "  <tbody>\n",
       "    <tr>\n",
       "      <td>intervention</td>\n",
       "      <td>39.663462</td>\n",
       "      <td>10.114438</td>\n",
       "      <td>182</td>\n",
       "      <td>0</td>\n",
       "    </tr>\n",
       "    <tr>\n",
       "      <td>control</td>\n",
       "      <td>39.942236</td>\n",
       "      <td>11.375102</td>\n",
       "      <td>161</td>\n",
       "      <td>0</td>\n",
       "    </tr>\n",
       "    <tr>\n",
       "      <td>active</td>\n",
       "      <td>41.104367</td>\n",
       "      <td>8.142186</td>\n",
       "      <td>229</td>\n",
       "      <td>0</td>\n",
       "    </tr>\n",
       "  </tbody>\n",
       "</table>\n",
       "</div>"
      ],
      "text/plain": [
       "                   mean         SD    N  year\n",
       "intervention  39.663462  10.114438  182     0\n",
       "control       39.942236  11.375102  161     0\n",
       "active        41.104367   8.142186  229     0"
      ]
     },
     "metadata": {},
     "output_type": "display_data"
    },
    {
     "name": "stdout",
     "output_type": "stream",
     "text": [
      "general statistics for trunk_flex\n",
      "\n",
      "---------------------------\n",
      "trunk_flex , ANOVA, all_groups = True , ITT = False  :\n"
     ]
    },
    {
     "data": {
      "text/html": [
       "<div>\n",
       "<style scoped>\n",
       "    .dataframe tbody tr th:only-of-type {\n",
       "        vertical-align: middle;\n",
       "    }\n",
       "\n",
       "    .dataframe tbody tr th {\n",
       "        vertical-align: top;\n",
       "    }\n",
       "\n",
       "    .dataframe thead th {\n",
       "        text-align: right;\n",
       "    }\n",
       "</style>\n",
       "<table border=\"1\" class=\"dataframe\">\n",
       "  <thead>\n",
       "    <tr style=\"text-align: right;\">\n",
       "      <th></th>\n",
       "      <th>Source</th>\n",
       "      <th>ddof1</th>\n",
       "      <th>ddof2</th>\n",
       "      <th>F</th>\n",
       "      <th>p-unc</th>\n",
       "      <th>np2</th>\n",
       "    </tr>\n",
       "  </thead>\n",
       "  <tbody>\n",
       "    <tr>\n",
       "      <td>0</td>\n",
       "      <td>group</td>\n",
       "      <td>2</td>\n",
       "      <td>335.697854</td>\n",
       "      <td>1.436006</td>\n",
       "      <td>0.239333</td>\n",
       "      <td>0.004416</td>\n",
       "    </tr>\n",
       "  </tbody>\n",
       "</table>\n",
       "</div>"
      ],
      "text/plain": [
       "  Source  ddof1       ddof2         F     p-unc       np2\n",
       "0  group      2  335.697854  1.436006  0.239333  0.004416"
      ]
     },
     "metadata": {},
     "output_type": "display_data"
    },
    {
     "name": "stdout",
     "output_type": "stream",
     "text": [
      "no effect\n",
      " \n",
      " \n",
      "vertical_jump , ANOVA, BL, all_groups = True , ITT = False  :\n"
     ]
    },
    {
     "data": {
      "image/png": "[encoded data removed]",
      "text/plain": [
       "<Figure size 432x288 with 1 Axes>"
      ]
     },
     "metadata": {
      "needs_background": "light"
     },
     "output_type": "display_data"
    },
    {
     "data": {
      "text/html": [
       "<div>\n",
       "<style scoped>\n",
       "    .dataframe tbody tr th:only-of-type {\n",
       "        vertical-align: middle;\n",
       "    }\n",
       "\n",
       "    .dataframe tbody tr th {\n",
       "        vertical-align: top;\n",
       "    }\n",
       "\n",
       "    .dataframe thead th {\n",
       "        text-align: right;\n",
       "    }\n",
       "</style>\n",
       "<table border=\"1\" class=\"dataframe\">\n",
       "  <thead>\n",
       "    <tr style=\"text-align: right;\">\n",
       "      <th></th>\n",
       "      <th>mean</th>\n",
       "      <th>SD</th>\n",
       "      <th>N</th>\n",
       "      <th>year</th>\n",
       "    </tr>\n",
       "  </thead>\n",
       "  <tbody>\n",
       "    <tr>\n",
       "      <td>intervention</td>\n",
       "      <td>33.887006</td>\n",
       "      <td>9.505199</td>\n",
       "      <td>177</td>\n",
       "      <td>0</td>\n",
       "    </tr>\n",
       "    <tr>\n",
       "      <td>control</td>\n",
       "      <td>35.408805</td>\n",
       "      <td>9.555014</td>\n",
       "      <td>159</td>\n",
       "      <td>0</td>\n",
       "    </tr>\n",
       "    <tr>\n",
       "      <td>active</td>\n",
       "      <td>35.339286</td>\n",
       "      <td>9.976359</td>\n",
       "      <td>224</td>\n",
       "      <td>0</td>\n",
       "    </tr>\n",
       "  </tbody>\n",
       "</table>\n",
       "</div>"
      ],
      "text/plain": [
       "                   mean        SD    N  year\n",
       "intervention  33.887006  9.505199  177     0\n",
       "control       35.408805  9.555014  159     0\n",
       "active        35.339286  9.976359  224     0"
      ]
     },
     "metadata": {},
     "output_type": "display_data"
    },
    {
     "name": "stdout",
     "output_type": "stream",
     "text": [
      "general statistics for vertical_jump\n",
      "\n",
      "---------------------------\n",
      "vertical_jump , ANOVA, all_groups = True , ITT = False  :\n"
     ]
    },
    {
     "data": {
      "text/html": [
       "<div>\n",
       "<style scoped>\n",
       "    .dataframe tbody tr th:only-of-type {\n",
       "        vertical-align: middle;\n",
       "    }\n",
       "\n",
       "    .dataframe tbody tr th {\n",
       "        vertical-align: top;\n",
       "    }\n",
       "\n",
       "    .dataframe thead th {\n",
       "        text-align: right;\n",
       "    }\n",
       "</style>\n",
       "<table border=\"1\" class=\"dataframe\">\n",
       "  <thead>\n",
       "    <tr style=\"text-align: right;\">\n",
       "      <th></th>\n",
       "      <th>Source</th>\n",
       "      <th>ddof1</th>\n",
       "      <th>ddof2</th>\n",
       "      <th>F</th>\n",
       "      <th>p-unc</th>\n",
       "      <th>np2</th>\n",
       "    </tr>\n",
       "  </thead>\n",
       "  <tbody>\n",
       "    <tr>\n",
       "      <td>0</td>\n",
       "      <td>group</td>\n",
       "      <td>2</td>\n",
       "      <td>357.528377</td>\n",
       "      <td>1.436002</td>\n",
       "      <td>0.239245</td>\n",
       "      <td>0.005013</td>\n",
       "    </tr>\n",
       "  </tbody>\n",
       "</table>\n",
       "</div>"
      ],
      "text/plain": [
       "  Source  ddof1       ddof2         F     p-unc       np2\n",
       "0  group      2  357.528377  1.436002  0.239245  0.005013"
      ]
     },
     "metadata": {},
     "output_type": "display_data"
    },
    {
     "name": "stdout",
     "output_type": "stream",
     "text": [
      "no effect\n",
      " \n",
      " \n",
      "VO2max_w , ANOVA, BL, all_groups = True , ITT = False  :\n"
     ]
    },
    {
     "data": {
      "image/png": "[encoded data removed]",
      "text/plain": [
       "<Figure size 432x288 with 1 Axes>"
      ]
     },
     "metadata": {
      "needs_background": "light"
     },
     "output_type": "display_data"
    },
    {
     "data": {
      "text/html": [
       "<div>\n",
       "<style scoped>\n",
       "    .dataframe tbody tr th:only-of-type {\n",
       "        vertical-align: middle;\n",
       "    }\n",
       "\n",
       "    .dataframe tbody tr th {\n",
       "        vertical-align: top;\n",
       "    }\n",
       "\n",
       "    .dataframe thead th {\n",
       "        text-align: right;\n",
       "    }\n",
       "</style>\n",
       "<table border=\"1\" class=\"dataframe\">\n",
       "  <thead>\n",
       "    <tr style=\"text-align: right;\">\n",
       "      <th></th>\n",
       "      <th>mean</th>\n",
       "      <th>SD</th>\n",
       "      <th>N</th>\n",
       "      <th>year</th>\n",
       "    </tr>\n",
       "  </thead>\n",
       "  <tbody>\n",
       "    <tr>\n",
       "      <td>intervention</td>\n",
       "      <td>29.825989</td>\n",
       "      <td>6.447125</td>\n",
       "      <td>177</td>\n",
       "      <td>0</td>\n",
       "    </tr>\n",
       "    <tr>\n",
       "      <td>control</td>\n",
       "      <td>29.979355</td>\n",
       "      <td>6.158673</td>\n",
       "      <td>155</td>\n",
       "      <td>0</td>\n",
       "    </tr>\n",
       "    <tr>\n",
       "      <td>active</td>\n",
       "      <td>33.318018</td>\n",
       "      <td>7.164027</td>\n",
       "      <td>222</td>\n",
       "      <td>0</td>\n",
       "    </tr>\n",
       "  </tbody>\n",
       "</table>\n",
       "</div>"
      ],
      "text/plain": [
       "                   mean        SD    N  year\n",
       "intervention  29.825989  6.447125  177     0\n",
       "control       29.979355  6.158673  155     0\n",
       "active        33.318018  7.164027  222     0"
      ]
     },
     "metadata": {},
     "output_type": "display_data"
    },
    {
     "name": "stdout",
     "output_type": "stream",
     "text": [
      "general statistics for VO2max_w\n",
      "\n",
      "---------------------------\n",
      "VO2max_w , ANOVA, all_groups = True , ITT = False  :\n"
     ]
    },
    {
     "data": {
      "text/html": [
       "<div>\n",
       "<style scoped>\n",
       "    .dataframe tbody tr th:only-of-type {\n",
       "        vertical-align: middle;\n",
       "    }\n",
       "\n",
       "    .dataframe tbody tr th {\n",
       "        vertical-align: top;\n",
       "    }\n",
       "\n",
       "    .dataframe thead th {\n",
       "        text-align: right;\n",
       "    }\n",
       "</style>\n",
       "<table border=\"1\" class=\"dataframe\">\n",
       "  <thead>\n",
       "    <tr style=\"text-align: right;\">\n",
       "      <th></th>\n",
       "      <th>Source</th>\n",
       "      <th>ddof1</th>\n",
       "      <th>ddof2</th>\n",
       "      <th>F</th>\n",
       "      <th>p-unc</th>\n",
       "      <th>np2</th>\n",
       "    </tr>\n",
       "  </thead>\n",
       "  <tbody>\n",
       "    <tr>\n",
       "      <td>0</td>\n",
       "      <td>group</td>\n",
       "      <td>2</td>\n",
       "      <td>358.01575</td>\n",
       "      <td>16.540883</td>\n",
       "      <td>1.346338e-07</td>\n",
       "      <td>0.059508</td>\n",
       "    </tr>\n",
       "  </tbody>\n",
       "</table>\n",
       "</div>"
      ],
      "text/plain": [
       "  Source  ddof1      ddof2          F         p-unc       np2\n",
       "0  group      2  358.01575  16.540883  1.346338e-07  0.059508"
      ]
     },
     "metadata": {},
     "output_type": "display_data"
    },
    {
     "name": "stdout",
     "output_type": "stream",
     "text": [
      "SIGNIFICANT\n"
     ]
    },
    {
     "data": {
      "text/html": [
       "<div>\n",
       "<style scoped>\n",
       "    .dataframe tbody tr th:only-of-type {\n",
       "        vertical-align: middle;\n",
       "    }\n",
       "\n",
       "    .dataframe tbody tr th {\n",
       "        vertical-align: top;\n",
       "    }\n",
       "\n",
       "    .dataframe thead th {\n",
       "        text-align: right;\n",
       "    }\n",
       "</style>\n",
       "<table border=\"1\" class=\"dataframe\">\n",
       "  <thead>\n",
       "    <tr style=\"text-align: right;\">\n",
       "      <th></th>\n",
       "      <th>A</th>\n",
       "      <th>B</th>\n",
       "      <th>mean(A)</th>\n",
       "      <th>mean(B)</th>\n",
       "      <th>diff</th>\n",
       "      <th>se</th>\n",
       "      <th>T</th>\n",
       "      <th>p-tukey</th>\n",
       "      <th>hedges</th>\n",
       "    </tr>\n",
       "  </thead>\n",
       "  <tbody>\n",
       "    <tr>\n",
       "      <td>0</td>\n",
       "      <td>active</td>\n",
       "      <td>control</td>\n",
       "      <td>33.318018</td>\n",
       "      <td>29.979355</td>\n",
       "      <td>3.338663</td>\n",
       "      <td>0.699816</td>\n",
       "      <td>4.770775</td>\n",
       "      <td>0.001</td>\n",
       "      <td>0.498365</td>\n",
       "    </tr>\n",
       "    <tr>\n",
       "      <td>1</td>\n",
       "      <td>active</td>\n",
       "      <td>intervention</td>\n",
       "      <td>33.318018</td>\n",
       "      <td>29.825989</td>\n",
       "      <td>3.492029</td>\n",
       "      <td>0.673719</td>\n",
       "      <td>5.183215</td>\n",
       "      <td>0.001</td>\n",
       "      <td>0.521316</td>\n",
       "    </tr>\n",
       "    <tr>\n",
       "      <td>2</td>\n",
       "      <td>control</td>\n",
       "      <td>intervention</td>\n",
       "      <td>29.979355</td>\n",
       "      <td>29.825989</td>\n",
       "      <td>0.153366</td>\n",
       "      <td>0.735482</td>\n",
       "      <td>0.208525</td>\n",
       "      <td>0.900</td>\n",
       "      <td>0.022887</td>\n",
       "    </tr>\n",
       "  </tbody>\n",
       "</table>\n",
       "</div>"
      ],
      "text/plain": [
       "         A             B    mean(A)    mean(B)      diff        se         T  \\\n",
       "0   active       control  33.318018  29.979355  3.338663  0.699816  4.770775   \n",
       "1   active  intervention  33.318018  29.825989  3.492029  0.673719  5.183215   \n",
       "2  control  intervention  29.979355  29.825989  0.153366  0.735482  0.208525   \n",
       "\n",
       "   p-tukey    hedges  \n",
       "0    0.001  0.498365  \n",
       "1    0.001  0.521316  \n",
       "2    0.900  0.022887  "
      ]
     },
     "metadata": {},
     "output_type": "display_data"
    },
    {
     "name": "stdout",
     "output_type": "stream",
     "text": [
      " \n",
      " \n"
     ]
    }
   ],
   "source": [
    "for of_int in all_param:\n",
    "    print(of_int,', ANOVA, BL, all_groups =', all_groups, ', ITT =', ITT,  ' :')\n",
    "    #\n",
    "    daa = []\n",
    "    stats = []\n",
    "    # Build a base\n",
    "    for year in range(len(period)):\n",
    "        da = []\n",
    "        stats_intervention = []\n",
    "        stats_control = []\n",
    "        stats_active = []\n",
    "        stats_year = []\n",
    "        if year == 0:\n",
    "            da = []\n",
    "            da = data_set[year][['subject_ID','group','period',of_int]].dropna()\n",
    "        else:   \n",
    "            if ITT == False:\n",
    "                da = pd.merge(data_set[0][['subject_ID','group']].dropna(),data_set[year][['subject_ID','period',of_int]].dropna(), how='inner', left_on='subject_ID', right_on='subject_ID' )\n",
    "            if ITT == True:\n",
    "                da = pd.merge(data_set[0][['subject_ID','group']].dropna(),data_set[year][['subject_ID','period',of_int]], how='left', left_on='subject_ID', right_on='subject_ID' )    \n",
    "                da[of_int]=da[of_int].fillna(daa[0][of_int])\n",
    "        daa.append(da)\n",
    "\n",
    "        # stats\n",
    "        GeneralStats()\n",
    "        stats_year= pd.DataFrame(stats_year,\n",
    "                 index=['intervention','control','active'],\n",
    "                 columns=['mean','SD','N'])\n",
    "        stats_year['year']=year\n",
    "        stats.append(stats_year)\n",
    "    stats=pd.concat(stats)\n",
    "\n",
    "\n",
    "    daaa=pd.concat(daa)\n",
    "    AnovaPlot()\n",
    "    display(stats)\n",
    "    print('general statistics for', of_int)\n",
    "    print('')\n",
    "    print('---------------------------')\n",
    "    AnovaStats(daaa,group=all_groups)\n",
    "    print(' ')\n",
    "    print(' ')\n",
    "\n",
    "\n",
    "\n",
    "\n"
   ]
  },
  {
   "cell_type": "code",
   "execution_count": 10,
   "metadata": {},
   "outputs": [
    {
     "name": "stdout",
     "output_type": "stream",
     "text": [
      "The whole ANOVA analysis has been successfully run\n"
     ]
    }
   ],
   "source": [
    "print('The whole ANOVA analysis has been successfully run')"
   ]
  },
  {
   "cell_type": "markdown",
   "metadata": {},
   "source": [
    "## Function for testing distributions"
   ]
  },
  {
   "cell_type": "code",
   "execution_count": 11,
   "metadata": {},
   "outputs": [],
   "source": [
    "def NormalityTest(param_for_main_analysis, period):\n",
    "    for of_int in param_for_main_analysis:\n",
    "        print(of_int, ' : ')\n",
    "        for year in range(len(period)):\n",
    "            norm_intervention = pg.normality(data_set[year][data_set[year]['group']=='intervention'][of_int])\n",
    "            norm_control = pg.normality(data_set[year][data_set[year]['group']=='control'][of_int])\n",
    "            norm_active = pg.normality(data_set[year][data_set[year]['group']=='active'][of_int])\n",
    "            dis = {'intervention year '+str(year): norm_intervention.loc[of_int], 'control year '+str(year): norm_control.loc[of_int],'active year '+str(year): norm_active.loc[of_int]}\n",
    "            distrib = pd.DataFrame(data=dis)\n",
    "\n",
    "            plt.figure()\n",
    "            %matplotlib inline\n",
    "            fig, ax = plt.subplots(1, 3, sharey='row')\n",
    "            # determine min and max for each year in order to plot all graph on the same x axis.\n",
    "            min_for_dis = min(data_set[year][of_int])\n",
    "            max_for_dis = max(data_set[year][of_int]) \n",
    "            #\n",
    "            ax[0] = sns.distplot(data_set[year][data_set[year]['group']=='intervention'][of_int], ax=ax[0])\n",
    "            ax[0].set_title('intervention', fontsize=14)\n",
    "            ax[0].set_xlim([min_for_dis, max_for_dis])\n",
    "            ax[1] = sns.distplot(data_set[year][data_set[year]['group']=='control'][of_int],ax=ax[1])\n",
    "            ax[1].set_title('control', fontsize=14)\n",
    "            ax[1].set_xlim([min_for_dis, max_for_dis])\n",
    "            ax[2] = sns.distplot(data_set[year][data_set[year]['group']=='active'][of_int],ax=ax[2])\n",
    "            ax[2].set_title('active', fontsize=14)\n",
    "            ax[2].set_xlim([min_for_dis, max_for_dis])\n",
    "\n",
    "            plt.show() # better to keep when looping.    \n",
    "            display(distrib)\n",
    "            print('Normality test for ', of_int, 'at year ', str(year))\n",
    "            print('')\n",
    "            print('---------------------------')\n",
    "        print('')\n",
    "        print('')"
   ]
  },
  {
   "cell_type": "markdown",
   "metadata": {},
   "source": [
    "## Testing distributions"
   ]
  },
  {
   "cell_type": "code",
   "execution_count": 12,
   "metadata": {},
   "outputs": [
    {
     "name": "stdout",
     "output_type": "stream",
     "text": [
      "energy_intakes  : \n"
     ]
    },
    {
     "data": {
      "image/png": "[encoded data removed]",
      "text/plain": [
       "<Figure size 432x288 with 3 Axes>"
      ]
     },
     "metadata": {
      "needs_background": "light"
     },
     "output_type": "display_data"
    },
    {
     "data": {
      "text/html": [
       "<div>\n",
       "<style scoped>\n",
       "    .dataframe tbody tr th:only-of-type {\n",
       "        vertical-align: middle;\n",
       "    }\n",
       "\n",
       "    .dataframe tbody tr th {\n",
       "        vertical-align: top;\n",
       "    }\n",
       "\n",
       "    .dataframe thead th {\n",
       "        text-align: right;\n",
       "    }\n",
       "</style>\n",
       "<table border=\"1\" class=\"dataframe\">\n",
       "  <thead>\n",
       "    <tr style=\"text-align: right;\">\n",
       "      <th></th>\n",
       "      <th>intervention year 0</th>\n",
       "      <th>control year 0</th>\n",
       "      <th>active year 0</th>\n",
       "    </tr>\n",
       "  </thead>\n",
       "  <tbody>\n",
       "    <tr>\n",
       "      <td>W</td>\n",
       "      <td>0.984691</td>\n",
       "      <td>0.982453</td>\n",
       "      <td>0.945739</td>\n",
       "    </tr>\n",
       "    <tr>\n",
       "      <td>pval</td>\n",
       "      <td>0.0431804</td>\n",
       "      <td>0.0389985</td>\n",
       "      <td>1.46122e-07</td>\n",
       "    </tr>\n",
       "    <tr>\n",
       "      <td>normal</td>\n",
       "      <td>False</td>\n",
       "      <td>False</td>\n",
       "      <td>False</td>\n",
       "    </tr>\n",
       "  </tbody>\n",
       "</table>\n",
       "</div>"
      ],
      "text/plain": [
       "       intervention year 0 control year 0 active year 0\n",
       "W                 0.984691       0.982453      0.945739\n",
       "pval             0.0431804      0.0389985   1.46122e-07\n",
       "normal               False          False         False"
      ]
     },
     "metadata": {},
     "output_type": "display_data"
    },
    {
     "name": "stdout",
     "output_type": "stream",
     "text": [
      "Normality test for  energy_intakes at year  0\n",
      "\n",
      "---------------------------\n",
      "\n",
      "\n",
      "proteins  : \n"
     ]
    },
    {
     "data": {
      "image/png": "[encoded data removed]",
      "text/plain": [
       "<Figure size 432x288 with 3 Axes>"
      ]
     },
     "metadata": {
      "needs_background": "light"
     },
     "output_type": "display_data"
    },
    {
     "data": {
      "text/html": [
       "<div>\n",
       "<style scoped>\n",
       "    .dataframe tbody tr th:only-of-type {\n",
       "        vertical-align: middle;\n",
       "    }\n",
       "\n",
       "    .dataframe tbody tr th {\n",
       "        vertical-align: top;\n",
       "    }\n",
       "\n",
       "    .dataframe thead th {\n",
       "        text-align: right;\n",
       "    }\n",
       "</style>\n",
       "<table border=\"1\" class=\"dataframe\">\n",
       "  <thead>\n",
       "    <tr style=\"text-align: right;\">\n",
       "      <th></th>\n",
       "      <th>intervention year 0</th>\n",
       "      <th>control year 0</th>\n",
       "      <th>active year 0</th>\n",
       "    </tr>\n",
       "  </thead>\n",
       "  <tbody>\n",
       "    <tr>\n",
       "      <td>W</td>\n",
       "      <td>0.990853</td>\n",
       "      <td>0.988889</td>\n",
       "      <td>0.982016</td>\n",
       "    </tr>\n",
       "    <tr>\n",
       "      <td>pval</td>\n",
       "      <td>0.296187</td>\n",
       "      <td>0.234945</td>\n",
       "      <td>0.00508994</td>\n",
       "    </tr>\n",
       "    <tr>\n",
       "      <td>normal</td>\n",
       "      <td>True</td>\n",
       "      <td>True</td>\n",
       "      <td>False</td>\n",
       "    </tr>\n",
       "  </tbody>\n",
       "</table>\n",
       "</div>"
      ],
      "text/plain": [
       "       intervention year 0 control year 0 active year 0\n",
       "W                 0.990853       0.988889      0.982016\n",
       "pval              0.296187       0.234945    0.00508994\n",
       "normal                True           True         False"
      ]
     },
     "metadata": {},
     "output_type": "display_data"
    },
    {
     "name": "stdout",
     "output_type": "stream",
     "text": [
      "Normality test for  proteins at year  0\n",
      "\n",
      "---------------------------\n",
      "\n",
      "\n",
      "fat  : \n"
     ]
    },
    {
     "data": {
      "image/png": "[encoded data removed]",
      "text/plain": [
       "<Figure size 432x288 with 3 Axes>"
      ]
     },
     "metadata": {
      "needs_background": "light"
     },
     "output_type": "display_data"
    },
    {
     "data": {
      "text/html": [
       "<div>\n",
       "<style scoped>\n",
       "    .dataframe tbody tr th:only-of-type {\n",
       "        vertical-align: middle;\n",
       "    }\n",
       "\n",
       "    .dataframe tbody tr th {\n",
       "        vertical-align: top;\n",
       "    }\n",
       "\n",
       "    .dataframe thead th {\n",
       "        text-align: right;\n",
       "    }\n",
       "</style>\n",
       "<table border=\"1\" class=\"dataframe\">\n",
       "  <thead>\n",
       "    <tr style=\"text-align: right;\">\n",
       "      <th></th>\n",
       "      <th>intervention year 0</th>\n",
       "      <th>control year 0</th>\n",
       "      <th>active year 0</th>\n",
       "    </tr>\n",
       "  </thead>\n",
       "  <tbody>\n",
       "    <tr>\n",
       "      <td>W</td>\n",
       "      <td>0.969056</td>\n",
       "      <td>0.984701</td>\n",
       "      <td>0.993946</td>\n",
       "    </tr>\n",
       "    <tr>\n",
       "      <td>pval</td>\n",
       "      <td>0.000439143</td>\n",
       "      <td>0.0734571</td>\n",
       "      <td>0.481366</td>\n",
       "    </tr>\n",
       "    <tr>\n",
       "      <td>normal</td>\n",
       "      <td>False</td>\n",
       "      <td>True</td>\n",
       "      <td>True</td>\n",
       "    </tr>\n",
       "  </tbody>\n",
       "</table>\n",
       "</div>"
      ],
      "text/plain": [
       "       intervention year 0 control year 0 active year 0\n",
       "W                 0.969056       0.984701      0.993946\n",
       "pval           0.000439143      0.0734571      0.481366\n",
       "normal               False           True          True"
      ]
     },
     "metadata": {},
     "output_type": "display_data"
    },
    {
     "name": "stdout",
     "output_type": "stream",
     "text": [
      "Normality test for  fat at year  0\n",
      "\n",
      "---------------------------\n",
      "\n",
      "\n",
      "carb  : \n"
     ]
    },
    {
     "data": {
      "image/png": "[encoded data removed]",
      "text/plain": [
       "<Figure size 432x288 with 3 Axes>"
      ]
     },
     "metadata": {
      "needs_background": "light"
     },
     "output_type": "display_data"
    },
    {
     "data": {
      "text/html": [
       "<div>\n",
       "<style scoped>\n",
       "    .dataframe tbody tr th:only-of-type {\n",
       "        vertical-align: middle;\n",
       "    }\n",
       "\n",
       "    .dataframe tbody tr th {\n",
       "        vertical-align: top;\n",
       "    }\n",
       "\n",
       "    .dataframe thead th {\n",
       "        text-align: right;\n",
       "    }\n",
       "</style>\n",
       "<table border=\"1\" class=\"dataframe\">\n",
       "  <thead>\n",
       "    <tr style=\"text-align: right;\">\n",
       "      <th></th>\n",
       "      <th>intervention year 0</th>\n",
       "      <th>control year 0</th>\n",
       "      <th>active year 0</th>\n",
       "    </tr>\n",
       "  </thead>\n",
       "  <tbody>\n",
       "    <tr>\n",
       "      <td>W</td>\n",
       "      <td>0.990074</td>\n",
       "      <td>0.993111</td>\n",
       "      <td>0.9819</td>\n",
       "    </tr>\n",
       "    <tr>\n",
       "      <td>pval</td>\n",
       "      <td>0.234958</td>\n",
       "      <td>0.642395</td>\n",
       "      <td>0.004876</td>\n",
       "    </tr>\n",
       "    <tr>\n",
       "      <td>normal</td>\n",
       "      <td>True</td>\n",
       "      <td>True</td>\n",
       "      <td>False</td>\n",
       "    </tr>\n",
       "  </tbody>\n",
       "</table>\n",
       "</div>"
      ],
      "text/plain": [
       "       intervention year 0 control year 0 active year 0\n",
       "W                 0.990074       0.993111        0.9819\n",
       "pval              0.234958       0.642395      0.004876\n",
       "normal                True           True         False"
      ]
     },
     "metadata": {},
     "output_type": "display_data"
    },
    {
     "name": "stdout",
     "output_type": "stream",
     "text": [
      "Normality test for  carb at year  0\n",
      "\n",
      "---------------------------\n",
      "\n",
      "\n",
      "weight  : \n"
     ]
    },
    {
     "data": {
      "image/png": "[encoded data removed]",
      "text/plain": [
       "<Figure size 432x288 with 3 Axes>"
      ]
     },
     "metadata": {
      "needs_background": "light"
     },
     "output_type": "display_data"
    },
    {
     "data": {
      "text/html": [
       "<div>\n",
       "<style scoped>\n",
       "    .dataframe tbody tr th:only-of-type {\n",
       "        vertical-align: middle;\n",
       "    }\n",
       "\n",
       "    .dataframe tbody tr th {\n",
       "        vertical-align: top;\n",
       "    }\n",
       "\n",
       "    .dataframe thead th {\n",
       "        text-align: right;\n",
       "    }\n",
       "</style>\n",
       "<table border=\"1\" class=\"dataframe\">\n",
       "  <thead>\n",
       "    <tr style=\"text-align: right;\">\n",
       "      <th></th>\n",
       "      <th>intervention year 0</th>\n",
       "      <th>control year 0</th>\n",
       "      <th>active year 0</th>\n",
       "    </tr>\n",
       "  </thead>\n",
       "  <tbody>\n",
       "    <tr>\n",
       "      <td>W</td>\n",
       "      <td>0.969264</td>\n",
       "      <td>0.964368</td>\n",
       "      <td>0.9634</td>\n",
       "    </tr>\n",
       "    <tr>\n",
       "      <td>pval</td>\n",
       "      <td>0.000464172</td>\n",
       "      <td>0.000370068</td>\n",
       "      <td>1.24315e-05</td>\n",
       "    </tr>\n",
       "    <tr>\n",
       "      <td>normal</td>\n",
       "      <td>False</td>\n",
       "      <td>False</td>\n",
       "      <td>False</td>\n",
       "    </tr>\n",
       "  </tbody>\n",
       "</table>\n",
       "</div>"
      ],
      "text/plain": [
       "       intervention year 0 control year 0 active year 0\n",
       "W                 0.969264       0.964368        0.9634\n",
       "pval           0.000464172    0.000370068   1.24315e-05\n",
       "normal               False          False         False"
      ]
     },
     "metadata": {},
     "output_type": "display_data"
    },
    {
     "name": "stdout",
     "output_type": "stream",
     "text": [
      "Normality test for  weight at year  0\n",
      "\n",
      "---------------------------\n",
      "\n",
      "\n",
      "BMI  : \n"
     ]
    },
    {
     "data": {
      "image/png": "[encoded data removed]",
      "text/plain": [
       "<Figure size 432x288 with 3 Axes>"
      ]
     },
     "metadata": {
      "needs_background": "light"
     },
     "output_type": "display_data"
    },
    {
     "data": {
      "text/html": [
       "<div>\n",
       "<style scoped>\n",
       "    .dataframe tbody tr th:only-of-type {\n",
       "        vertical-align: middle;\n",
       "    }\n",
       "\n",
       "    .dataframe tbody tr th {\n",
       "        vertical-align: top;\n",
       "    }\n",
       "\n",
       "    .dataframe thead th {\n",
       "        text-align: right;\n",
       "    }\n",
       "</style>\n",
       "<table border=\"1\" class=\"dataframe\">\n",
       "  <thead>\n",
       "    <tr style=\"text-align: right;\">\n",
       "      <th></th>\n",
       "      <th>intervention year 0</th>\n",
       "      <th>control year 0</th>\n",
       "      <th>active year 0</th>\n",
       "    </tr>\n",
       "  </thead>\n",
       "  <tbody>\n",
       "    <tr>\n",
       "      <td>W</td>\n",
       "      <td>0.968612</td>\n",
       "      <td>0.985136</td>\n",
       "      <td>0.966502</td>\n",
       "    </tr>\n",
       "    <tr>\n",
       "      <td>pval</td>\n",
       "      <td>0.000390511</td>\n",
       "      <td>0.0830447</td>\n",
       "      <td>3.0253e-05</td>\n",
       "    </tr>\n",
       "    <tr>\n",
       "      <td>normal</td>\n",
       "      <td>False</td>\n",
       "      <td>True</td>\n",
       "      <td>False</td>\n",
       "    </tr>\n",
       "  </tbody>\n",
       "</table>\n",
       "</div>"
      ],
      "text/plain": [
       "       intervention year 0 control year 0 active year 0\n",
       "W                 0.968612       0.985136      0.966502\n",
       "pval           0.000390511      0.0830447    3.0253e-05\n",
       "normal               False           True         False"
      ]
     },
     "metadata": {},
     "output_type": "display_data"
    },
    {
     "name": "stdout",
     "output_type": "stream",
     "text": [
      "Normality test for  BMI at year  0\n",
      "\n",
      "---------------------------\n",
      "\n",
      "\n",
      "waist_circumference  : \n"
     ]
    },
    {
     "data": {
      "image/png": "[encoded data removed]",
      "text/plain": [
       "<Figure size 432x288 with 3 Axes>"
      ]
     },
     "metadata": {
      "needs_background": "light"
     },
     "output_type": "display_data"
    },
    {
     "data": {
      "text/html": [
       "<div>\n",
       "<style scoped>\n",
       "    .dataframe tbody tr th:only-of-type {\n",
       "        vertical-align: middle;\n",
       "    }\n",
       "\n",
       "    .dataframe tbody tr th {\n",
       "        vertical-align: top;\n",
       "    }\n",
       "\n",
       "    .dataframe thead th {\n",
       "        text-align: right;\n",
       "    }\n",
       "</style>\n",
       "<table border=\"1\" class=\"dataframe\">\n",
       "  <thead>\n",
       "    <tr style=\"text-align: right;\">\n",
       "      <th></th>\n",
       "      <th>intervention year 0</th>\n",
       "      <th>control year 0</th>\n",
       "      <th>active year 0</th>\n",
       "    </tr>\n",
       "  </thead>\n",
       "  <tbody>\n",
       "    <tr>\n",
       "      <td>W</td>\n",
       "      <td>0.985936</td>\n",
       "      <td>0.989874</td>\n",
       "      <td>0.981468</td>\n",
       "    </tr>\n",
       "    <tr>\n",
       "      <td>pval</td>\n",
       "      <td>0.0641835</td>\n",
       "      <td>0.304544</td>\n",
       "      <td>0.00415555</td>\n",
       "    </tr>\n",
       "    <tr>\n",
       "      <td>normal</td>\n",
       "      <td>True</td>\n",
       "      <td>True</td>\n",
       "      <td>False</td>\n",
       "    </tr>\n",
       "  </tbody>\n",
       "</table>\n",
       "</div>"
      ],
      "text/plain": [
       "       intervention year 0 control year 0 active year 0\n",
       "W                 0.985936       0.989874      0.981468\n",
       "pval             0.0641835       0.304544    0.00415555\n",
       "normal                True           True         False"
      ]
     },
     "metadata": {},
     "output_type": "display_data"
    },
    {
     "name": "stdout",
     "output_type": "stream",
     "text": [
      "Normality test for  waist_circumference at year  0\n",
      "\n",
      "---------------------------\n",
      "\n",
      "\n",
      "HR  : \n"
     ]
    },
    {
     "data": {
      "image/png": "[encoded data removed]",
      "text/plain": [
       "<Figure size 432x288 with 3 Axes>"
      ]
     },
     "metadata": {
      "needs_background": "light"
     },
     "output_type": "display_data"
    },
    {
     "data": {
      "text/html": [
       "<div>\n",
       "<style scoped>\n",
       "    .dataframe tbody tr th:only-of-type {\n",
       "        vertical-align: middle;\n",
       "    }\n",
       "\n",
       "    .dataframe tbody tr th {\n",
       "        vertical-align: top;\n",
       "    }\n",
       "\n",
       "    .dataframe thead th {\n",
       "        text-align: right;\n",
       "    }\n",
       "</style>\n",
       "<table border=\"1\" class=\"dataframe\">\n",
       "  <thead>\n",
       "    <tr style=\"text-align: right;\">\n",
       "      <th></th>\n",
       "      <th>intervention year 0</th>\n",
       "      <th>control year 0</th>\n",
       "      <th>active year 0</th>\n",
       "    </tr>\n",
       "  </thead>\n",
       "  <tbody>\n",
       "    <tr>\n",
       "      <td>W</td>\n",
       "      <td>0.95383</td>\n",
       "      <td>0.953135</td>\n",
       "      <td>0.95759</td>\n",
       "    </tr>\n",
       "    <tr>\n",
       "      <td>pval</td>\n",
       "      <td>1.10102e-05</td>\n",
       "      <td>3.19713e-05</td>\n",
       "      <td>2.58968e-06</td>\n",
       "    </tr>\n",
       "    <tr>\n",
       "      <td>normal</td>\n",
       "      <td>False</td>\n",
       "      <td>False</td>\n",
       "      <td>False</td>\n",
       "    </tr>\n",
       "  </tbody>\n",
       "</table>\n",
       "</div>"
      ],
      "text/plain": [
       "       intervention year 0 control year 0 active year 0\n",
       "W                  0.95383       0.953135       0.95759\n",
       "pval           1.10102e-05    3.19713e-05   2.58968e-06\n",
       "normal               False          False         False"
      ]
     },
     "metadata": {},
     "output_type": "display_data"
    },
    {
     "name": "stdout",
     "output_type": "stream",
     "text": [
      "Normality test for  HR at year  0\n",
      "\n",
      "---------------------------\n",
      "\n",
      "\n",
      "bMAP  : \n"
     ]
    },
    {
     "data": {
      "image/png": "[encoded data removed]",
      "text/plain": [
       "<Figure size 432x288 with 3 Axes>"
      ]
     },
     "metadata": {
      "needs_background": "light"
     },
     "output_type": "display_data"
    },
    {
     "data": {
      "text/html": [
       "<div>\n",
       "<style scoped>\n",
       "    .dataframe tbody tr th:only-of-type {\n",
       "        vertical-align: middle;\n",
       "    }\n",
       "\n",
       "    .dataframe tbody tr th {\n",
       "        vertical-align: top;\n",
       "    }\n",
       "\n",
       "    .dataframe thead th {\n",
       "        text-align: right;\n",
       "    }\n",
       "</style>\n",
       "<table border=\"1\" class=\"dataframe\">\n",
       "  <thead>\n",
       "    <tr style=\"text-align: right;\">\n",
       "      <th></th>\n",
       "      <th>intervention year 0</th>\n",
       "      <th>control year 0</th>\n",
       "      <th>active year 0</th>\n",
       "    </tr>\n",
       "  </thead>\n",
       "  <tbody>\n",
       "    <tr>\n",
       "      <td>W</td>\n",
       "      <td>0.967729</td>\n",
       "      <td>0.967727</td>\n",
       "      <td>0.988289</td>\n",
       "    </tr>\n",
       "    <tr>\n",
       "      <td>pval</td>\n",
       "      <td>0.000309689</td>\n",
       "      <td>0.000819312</td>\n",
       "      <td>0.0575482</td>\n",
       "    </tr>\n",
       "    <tr>\n",
       "      <td>normal</td>\n",
       "      <td>False</td>\n",
       "      <td>False</td>\n",
       "      <td>True</td>\n",
       "    </tr>\n",
       "  </tbody>\n",
       "</table>\n",
       "</div>"
      ],
      "text/plain": [
       "       intervention year 0 control year 0 active year 0\n",
       "W                 0.967729       0.967727      0.988289\n",
       "pval           0.000309689    0.000819312     0.0575482\n",
       "normal               False          False          True"
      ]
     },
     "metadata": {},
     "output_type": "display_data"
    },
    {
     "name": "stdout",
     "output_type": "stream",
     "text": [
      "Normality test for  bMAP at year  0\n",
      "\n",
      "---------------------------\n",
      "\n",
      "\n",
      "baPWV  : \n"
     ]
    },
    {
     "data": {
      "image/png": "[encoded data removed]",
      "text/plain": [
       "<Figure size 432x288 with 3 Axes>"
      ]
     },
     "metadata": {
      "needs_background": "light"
     },
     "output_type": "display_data"
    },
    {
     "data": {
      "text/html": [
       "<div>\n",
       "<style scoped>\n",
       "    .dataframe tbody tr th:only-of-type {\n",
       "        vertical-align: middle;\n",
       "    }\n",
       "\n",
       "    .dataframe tbody tr th {\n",
       "        vertical-align: top;\n",
       "    }\n",
       "\n",
       "    .dataframe thead th {\n",
       "        text-align: right;\n",
       "    }\n",
       "</style>\n",
       "<table border=\"1\" class=\"dataframe\">\n",
       "  <thead>\n",
       "    <tr style=\"text-align: right;\">\n",
       "      <th></th>\n",
       "      <th>intervention year 0</th>\n",
       "      <th>control year 0</th>\n",
       "      <th>active year 0</th>\n",
       "    </tr>\n",
       "  </thead>\n",
       "  <tbody>\n",
       "    <tr>\n",
       "      <td>W</td>\n",
       "      <td>0.951148</td>\n",
       "      <td>0.960361</td>\n",
       "      <td>0.970774</td>\n",
       "    </tr>\n",
       "    <tr>\n",
       "      <td>pval</td>\n",
       "      <td>6.13569e-06</td>\n",
       "      <td>0.000149165</td>\n",
       "      <td>0.000110085</td>\n",
       "    </tr>\n",
       "    <tr>\n",
       "      <td>normal</td>\n",
       "      <td>False</td>\n",
       "      <td>False</td>\n",
       "      <td>False</td>\n",
       "    </tr>\n",
       "  </tbody>\n",
       "</table>\n",
       "</div>"
      ],
      "text/plain": [
       "       intervention year 0 control year 0 active year 0\n",
       "W                 0.951148       0.960361      0.970774\n",
       "pval           6.13569e-06    0.000149165   0.000110085\n",
       "normal               False          False         False"
      ]
     },
     "metadata": {},
     "output_type": "display_data"
    },
    {
     "name": "stdout",
     "output_type": "stream",
     "text": [
      "Normality test for  baPWV at year  0\n",
      "\n",
      "---------------------------\n",
      "\n",
      "\n",
      "glucose  : \n"
     ]
    },
    {
     "data": {
      "image/png": "[encoded data removed]",
      "text/plain": [
       "<Figure size 432x288 with 3 Axes>"
      ]
     },
     "metadata": {
      "needs_background": "light"
     },
     "output_type": "display_data"
    },
    {
     "data": {
      "text/html": [
       "<div>\n",
       "<style scoped>\n",
       "    .dataframe tbody tr th:only-of-type {\n",
       "        vertical-align: middle;\n",
       "    }\n",
       "\n",
       "    .dataframe tbody tr th {\n",
       "        vertical-align: top;\n",
       "    }\n",
       "\n",
       "    .dataframe thead th {\n",
       "        text-align: right;\n",
       "    }\n",
       "</style>\n",
       "<table border=\"1\" class=\"dataframe\">\n",
       "  <thead>\n",
       "    <tr style=\"text-align: right;\">\n",
       "      <th></th>\n",
       "      <th>intervention year 0</th>\n",
       "      <th>control year 0</th>\n",
       "      <th>active year 0</th>\n",
       "    </tr>\n",
       "  </thead>\n",
       "  <tbody>\n",
       "    <tr>\n",
       "      <td>W</td>\n",
       "      <td>0.99039</td>\n",
       "      <td>0.880462</td>\n",
       "      <td>0.96696</td>\n",
       "    </tr>\n",
       "    <tr>\n",
       "      <td>pval</td>\n",
       "      <td>0.258356</td>\n",
       "      <td>4.4379e-10</td>\n",
       "      <td>3.46149e-05</td>\n",
       "    </tr>\n",
       "    <tr>\n",
       "      <td>normal</td>\n",
       "      <td>True</td>\n",
       "      <td>False</td>\n",
       "      <td>False</td>\n",
       "    </tr>\n",
       "  </tbody>\n",
       "</table>\n",
       "</div>"
      ],
      "text/plain": [
       "       intervention year 0 control year 0 active year 0\n",
       "W                  0.99039       0.880462       0.96696\n",
       "pval              0.258356     4.4379e-10   3.46149e-05\n",
       "normal                True          False         False"
      ]
     },
     "metadata": {},
     "output_type": "display_data"
    },
    {
     "name": "stdout",
     "output_type": "stream",
     "text": [
      "Normality test for  glucose at year  0\n",
      "\n",
      "---------------------------\n",
      "\n",
      "\n",
      "HbA1c  : \n"
     ]
    },
    {
     "data": {
      "image/png": "[encoded data removed]",
      "text/plain": [
       "<Figure size 432x288 with 3 Axes>"
      ]
     },
     "metadata": {
      "needs_background": "light"
     },
     "output_type": "display_data"
    },
    {
     "data": {
      "text/html": [
       "<div>\n",
       "<style scoped>\n",
       "    .dataframe tbody tr th:only-of-type {\n",
       "        vertical-align: middle;\n",
       "    }\n",
       "\n",
       "    .dataframe tbody tr th {\n",
       "        vertical-align: top;\n",
       "    }\n",
       "\n",
       "    .dataframe thead th {\n",
       "        text-align: right;\n",
       "    }\n",
       "</style>\n",
       "<table border=\"1\" class=\"dataframe\">\n",
       "  <thead>\n",
       "    <tr style=\"text-align: right;\">\n",
       "      <th></th>\n",
       "      <th>intervention year 0</th>\n",
       "      <th>control year 0</th>\n",
       "      <th>active year 0</th>\n",
       "    </tr>\n",
       "  </thead>\n",
       "  <tbody>\n",
       "    <tr>\n",
       "      <td>W</td>\n",
       "      <td>0.971714</td>\n",
       "      <td>0.974309</td>\n",
       "      <td>0.96836</td>\n",
       "    </tr>\n",
       "    <tr>\n",
       "      <td>pval</td>\n",
       "      <td>0.000900746</td>\n",
       "      <td>0.00426922</td>\n",
       "      <td>5.25388e-05</td>\n",
       "    </tr>\n",
       "    <tr>\n",
       "      <td>normal</td>\n",
       "      <td>False</td>\n",
       "      <td>False</td>\n",
       "      <td>False</td>\n",
       "    </tr>\n",
       "  </tbody>\n",
       "</table>\n",
       "</div>"
      ],
      "text/plain": [
       "       intervention year 0 control year 0 active year 0\n",
       "W                 0.971714       0.974309       0.96836\n",
       "pval           0.000900746     0.00426922   5.25388e-05\n",
       "normal               False          False         False"
      ]
     },
     "metadata": {},
     "output_type": "display_data"
    },
    {
     "name": "stdout",
     "output_type": "stream",
     "text": [
      "Normality test for  HbA1c at year  0\n",
      "\n",
      "---------------------------\n",
      "\n",
      "\n",
      "TG_(neutral fat)  : \n"
     ]
    },
    {
     "data": {
      "image/png": "[encoded data removed]",
      "text/plain": [
       "<Figure size 432x288 with 3 Axes>"
      ]
     },
     "metadata": {
      "needs_background": "light"
     },
     "output_type": "display_data"
    },
    {
     "data": {
      "text/html": [
       "<div>\n",
       "<style scoped>\n",
       "    .dataframe tbody tr th:only-of-type {\n",
       "        vertical-align: middle;\n",
       "    }\n",
       "\n",
       "    .dataframe tbody tr th {\n",
       "        vertical-align: top;\n",
       "    }\n",
       "\n",
       "    .dataframe thead th {\n",
       "        text-align: right;\n",
       "    }\n",
       "</style>\n",
       "<table border=\"1\" class=\"dataframe\">\n",
       "  <thead>\n",
       "    <tr style=\"text-align: right;\">\n",
       "      <th></th>\n",
       "      <th>intervention year 0</th>\n",
       "      <th>control year 0</th>\n",
       "      <th>active year 0</th>\n",
       "    </tr>\n",
       "  </thead>\n",
       "  <tbody>\n",
       "    <tr>\n",
       "      <td>W</td>\n",
       "      <td>0.858171</td>\n",
       "      <td>0.700806</td>\n",
       "      <td>0.821137</td>\n",
       "    </tr>\n",
       "    <tr>\n",
       "      <td>pval</td>\n",
       "      <td>4.74715e-12</td>\n",
       "      <td>1.05178e-16</td>\n",
       "      <td>1.48513e-15</td>\n",
       "    </tr>\n",
       "    <tr>\n",
       "      <td>normal</td>\n",
       "      <td>False</td>\n",
       "      <td>False</td>\n",
       "      <td>False</td>\n",
       "    </tr>\n",
       "  </tbody>\n",
       "</table>\n",
       "</div>"
      ],
      "text/plain": [
       "       intervention year 0 control year 0 active year 0\n",
       "W                 0.858171       0.700806      0.821137\n",
       "pval           4.74715e-12    1.05178e-16   1.48513e-15\n",
       "normal               False          False         False"
      ]
     },
     "metadata": {},
     "output_type": "display_data"
    },
    {
     "name": "stdout",
     "output_type": "stream",
     "text": [
      "Normality test for  TG_(neutral fat) at year  0\n",
      "\n",
      "---------------------------\n",
      "\n",
      "\n",
      "tot_cholesterol  : \n"
     ]
    },
    {
     "data": {
      "image/png": "[encoded data removed]",
      "text/plain": [
       "<Figure size 432x288 with 3 Axes>"
      ]
     },
     "metadata": {
      "needs_background": "light"
     },
     "output_type": "display_data"
    },
    {
     "data": {
      "text/html": [
       "<div>\n",
       "<style scoped>\n",
       "    .dataframe tbody tr th:only-of-type {\n",
       "        vertical-align: middle;\n",
       "    }\n",
       "\n",
       "    .dataframe tbody tr th {\n",
       "        vertical-align: top;\n",
       "    }\n",
       "\n",
       "    .dataframe thead th {\n",
       "        text-align: right;\n",
       "    }\n",
       "</style>\n",
       "<table border=\"1\" class=\"dataframe\">\n",
       "  <thead>\n",
       "    <tr style=\"text-align: right;\">\n",
       "      <th></th>\n",
       "      <th>intervention year 0</th>\n",
       "      <th>control year 0</th>\n",
       "      <th>active year 0</th>\n",
       "    </tr>\n",
       "  </thead>\n",
       "  <tbody>\n",
       "    <tr>\n",
       "      <td>W</td>\n",
       "      <td>0.979471</td>\n",
       "      <td>0.974655</td>\n",
       "      <td>0.982189</td>\n",
       "    </tr>\n",
       "    <tr>\n",
       "      <td>pval</td>\n",
       "      <td>0.00849511</td>\n",
       "      <td>0.00467364</td>\n",
       "      <td>0.00543014</td>\n",
       "    </tr>\n",
       "    <tr>\n",
       "      <td>normal</td>\n",
       "      <td>False</td>\n",
       "      <td>False</td>\n",
       "      <td>False</td>\n",
       "    </tr>\n",
       "  </tbody>\n",
       "</table>\n",
       "</div>"
      ],
      "text/plain": [
       "       intervention year 0 control year 0 active year 0\n",
       "W                 0.979471       0.974655      0.982189\n",
       "pval            0.00849511     0.00467364    0.00543014\n",
       "normal               False          False         False"
      ]
     },
     "metadata": {},
     "output_type": "display_data"
    },
    {
     "name": "stdout",
     "output_type": "stream",
     "text": [
      "Normality test for  tot_cholesterol at year  0\n",
      "\n",
      "---------------------------\n",
      "\n",
      "\n",
      "trunk_flex  : \n"
     ]
    },
    {
     "data": {
      "image/png": "[encoded data removed]",
      "text/plain": [
       "<Figure size 432x288 with 3 Axes>"
      ]
     },
     "metadata": {
      "needs_background": "light"
     },
     "output_type": "display_data"
    },
    {
     "data": {
      "text/html": [
       "<div>\n",
       "<style scoped>\n",
       "    .dataframe tbody tr th:only-of-type {\n",
       "        vertical-align: middle;\n",
       "    }\n",
       "\n",
       "    .dataframe tbody tr th {\n",
       "        vertical-align: top;\n",
       "    }\n",
       "\n",
       "    .dataframe thead th {\n",
       "        text-align: right;\n",
       "    }\n",
       "</style>\n",
       "<table border=\"1\" class=\"dataframe\">\n",
       "  <thead>\n",
       "    <tr style=\"text-align: right;\">\n",
       "      <th></th>\n",
       "      <th>intervention year 0</th>\n",
       "      <th>control year 0</th>\n",
       "      <th>active year 0</th>\n",
       "    </tr>\n",
       "  </thead>\n",
       "  <tbody>\n",
       "    <tr>\n",
       "      <td>W</td>\n",
       "      <td>0.980443</td>\n",
       "      <td>0.990124</td>\n",
       "      <td>0.990637</td>\n",
       "    </tr>\n",
       "    <tr>\n",
       "      <td>pval</td>\n",
       "      <td>0.0117779</td>\n",
       "      <td>0.324746</td>\n",
       "      <td>0.147262</td>\n",
       "    </tr>\n",
       "    <tr>\n",
       "      <td>normal</td>\n",
       "      <td>False</td>\n",
       "      <td>True</td>\n",
       "      <td>True</td>\n",
       "    </tr>\n",
       "  </tbody>\n",
       "</table>\n",
       "</div>"
      ],
      "text/plain": [
       "       intervention year 0 control year 0 active year 0\n",
       "W                 0.980443       0.990124      0.990637\n",
       "pval             0.0117779       0.324746      0.147262\n",
       "normal               False           True          True"
      ]
     },
     "metadata": {},
     "output_type": "display_data"
    },
    {
     "name": "stdout",
     "output_type": "stream",
     "text": [
      "Normality test for  trunk_flex at year  0\n",
      "\n",
      "---------------------------\n",
      "\n",
      "\n",
      "vertical_jump  : \n"
     ]
    },
    {
     "data": {
      "image/png": "[encoded data removed]",
      "text/plain": [
       "<Figure size 432x288 with 3 Axes>"
      ]
     },
     "metadata": {
      "needs_background": "light"
     },
     "output_type": "display_data"
    },
    {
     "data": {
      "text/html": [
       "<div>\n",
       "<style scoped>\n",
       "    .dataframe tbody tr th:only-of-type {\n",
       "        vertical-align: middle;\n",
       "    }\n",
       "\n",
       "    .dataframe tbody tr th {\n",
       "        vertical-align: top;\n",
       "    }\n",
       "\n",
       "    .dataframe thead th {\n",
       "        text-align: right;\n",
       "    }\n",
       "</style>\n",
       "<table border=\"1\" class=\"dataframe\">\n",
       "  <thead>\n",
       "    <tr style=\"text-align: right;\">\n",
       "      <th></th>\n",
       "      <th>intervention year 0</th>\n",
       "      <th>control year 0</th>\n",
       "      <th>active year 0</th>\n",
       "    </tr>\n",
       "  </thead>\n",
       "  <tbody>\n",
       "    <tr>\n",
       "      <td>W</td>\n",
       "      <td>0.974695</td>\n",
       "      <td>0.982892</td>\n",
       "      <td>0.956999</td>\n",
       "    </tr>\n",
       "    <tr>\n",
       "      <td>pval</td>\n",
       "      <td>0.00259402</td>\n",
       "      <td>0.0465564</td>\n",
       "      <td>2.95123e-06</td>\n",
       "    </tr>\n",
       "    <tr>\n",
       "      <td>normal</td>\n",
       "      <td>False</td>\n",
       "      <td>False</td>\n",
       "      <td>False</td>\n",
       "    </tr>\n",
       "  </tbody>\n",
       "</table>\n",
       "</div>"
      ],
      "text/plain": [
       "       intervention year 0 control year 0 active year 0\n",
       "W                 0.974695       0.982892      0.956999\n",
       "pval            0.00259402      0.0465564   2.95123e-06\n",
       "normal               False          False         False"
      ]
     },
     "metadata": {},
     "output_type": "display_data"
    },
    {
     "name": "stdout",
     "output_type": "stream",
     "text": [
      "Normality test for  vertical_jump at year  0\n",
      "\n",
      "---------------------------\n",
      "\n",
      "\n",
      "VO2max_w  : \n"
     ]
    },
    {
     "data": {
      "image/png": "[encoded data removed]",
      "text/plain": [
       "<Figure size 432x288 with 3 Axes>"
      ]
     },
     "metadata": {
      "needs_background": "light"
     },
     "output_type": "display_data"
    },
    {
     "data": {
      "text/html": [
       "<div>\n",
       "<style scoped>\n",
       "    .dataframe tbody tr th:only-of-type {\n",
       "        vertical-align: middle;\n",
       "    }\n",
       "\n",
       "    .dataframe tbody tr th {\n",
       "        vertical-align: top;\n",
       "    }\n",
       "\n",
       "    .dataframe thead th {\n",
       "        text-align: right;\n",
       "    }\n",
       "</style>\n",
       "<table border=\"1\" class=\"dataframe\">\n",
       "  <thead>\n",
       "    <tr style=\"text-align: right;\">\n",
       "      <th></th>\n",
       "      <th>intervention year 0</th>\n",
       "      <th>control year 0</th>\n",
       "      <th>active year 0</th>\n",
       "    </tr>\n",
       "  </thead>\n",
       "  <tbody>\n",
       "    <tr>\n",
       "      <td>W</td>\n",
       "      <td>0.966623</td>\n",
       "      <td>0.963224</td>\n",
       "      <td>0.961574</td>\n",
       "    </tr>\n",
       "    <tr>\n",
       "      <td>pval</td>\n",
       "      <td>0.000303735</td>\n",
       "      <td>0.00038237</td>\n",
       "      <td>1.07145e-05</td>\n",
       "    </tr>\n",
       "    <tr>\n",
       "      <td>normal</td>\n",
       "      <td>False</td>\n",
       "      <td>False</td>\n",
       "      <td>False</td>\n",
       "    </tr>\n",
       "  </tbody>\n",
       "</table>\n",
       "</div>"
      ],
      "text/plain": [
       "       intervention year 0 control year 0 active year 0\n",
       "W                 0.966623       0.963224      0.961574\n",
       "pval           0.000303735     0.00038237   1.07145e-05\n",
       "normal               False          False         False"
      ]
     },
     "metadata": {},
     "output_type": "display_data"
    },
    {
     "name": "stdout",
     "output_type": "stream",
     "text": [
      "Normality test for  VO2max_w at year  0\n",
      "\n",
      "---------------------------\n",
      "\n",
      "\n"
     ]
    }
   ],
   "source": [
    "NormalityTest(param_for_main_analysis=all_param, period=period)"
   ]
  }
 ],
 "metadata": {
  "kernelspec": {
   "display_name": "Python 3",
   "language": "python",
   "name": "python3"
  },
  "language_info": {
   "codemirror_mode": {
    "name": "ipython",
    "version": 3
   },
   "file_extension": ".py",
   "mimetype": "text/x-python",
   "name": "python",
   "nbconvert_exporter": "python",
   "pygments_lexer": "ipython3",
   "version": "3.8.8"
  }
 },
 "nbformat": 4,
 "nbformat_minor": 2
}
